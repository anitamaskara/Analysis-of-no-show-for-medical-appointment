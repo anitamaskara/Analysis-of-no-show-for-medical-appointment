{
 "cells": [
  {
   "cell_type": "markdown",
   "metadata": {},
   "source": [
    "\n",
    "\n",
    "# Project: Analysis of No Show for Medical Appointment  \n",
    "\n",
    "## Table of Contents\n",
    "<ul>\n",
    "<li><a href=\"#intro\">Introduction</a></li>\n",
    "<li><a href=\"#wrangling\">Data Wrangling</a></li>\n",
    "<li><a href=\"#eda\">Exploratory Data Analysis</a></li>\n",
    "<li><a href=\"#conclusions\">Conclusions</a></li>\n",
    "</ul>\n",
    "\n",
    "<a id='intro'></a>\n",
    "## Introduction\n",
    "\n",
    "> This dataset contains information from 110527 medical appointments in Brazil and is focused on the question of whether or not patients show up for their appointment. A number of characteristics about the patient are included in each row.\n",
    "\n",
    "> Brief description of the variables is provided below:\n",
    "-  PatientId: Identification of a patient\n",
    "-  AppointmentID: Identification of each appointment\n",
    "-  Gender: Male or Female\n",
    "-  ScheduledDay: What day the patient set up their appointment.\n",
    "-  AppointmentDay: The day of the actual appointment, when the patient has to visit the doctor\n",
    "-  Age: How old is the patient \n",
    "-  Neighbourhood: Indicates the location of the hospital.\n",
    "-  Scholarship: 0 or 1; 1 indicates that the patient is in the Bolsa Familia program\n",
    "-  Hipertension: 0 or 1; 1 indicates that the patient has hipertension\n",
    "-  Diabetes: 0 or 1; 1 indicates that the patient has diabetes\n",
    "-  Alcoholism: 0 or 1; 1 indicates that the patient has problem of alcoholism\n",
    "-  Handcap: 0 0r 1; 1 indicates that the patient is handicapped\n",
    "-  SMS_received: 0 or 1; 1 indicates that a SMS was received \n",
    "-  No_show \"No\" indicates that the patient showed up to their appointment and \"Yes\" that the patient didn't show up for the appointment \n",
    "\n",
    "> In this project, we will investigate this dataset and answer the following questions:\n",
    "- 1. Is the proportion of No Shows significantly less for appointments booked on the same day?\n",
    "- 2. Does the rate of no show vary according to age group?\n",
    "- 3. Do certain neighbourhoods have higher number of no shows than others? Which are the top 5 neighbourhoods for no shows?\n",
    "- 4. Does the day of the week of the appointment influences the patient not showing up for the appointment?\n",
    "- 5. Does the no_show rate increase as lag increases?\n",
    "- 6. Understand what factors are important for us to know in order to predict if a patient will show up for their scheduled appointment?\n",
    "\n",
    "#####  No_show variable is the dependent variable and the other variables are independent variables\n",
    "\n",
    "\n"
   ]
  },
  {
   "cell_type": "markdown",
   "metadata": {},
   "source": [
    "### Before loading the data, open the csv file in MS Excel and change the \"No-show\" variable name to \"No_show\" to maintain consistency in variable names \n",
    "\n",
    "### We will be extracting the date from the ScheduledDay column and AppointmentDay column. \n",
    "#### -  Insert three columns before Age. \n",
    "#### -  In cell F1, type column name ScheduledDayDate\n",
    "#### -  In cell F2, type the formula =left(D2,10). Copy and paste the formula for all the cells in that column. This will extract the date portion from the ScheduledDay column. \n",
    "#### -  In cell G1, type column name AppointmentDayDate\n",
    "#### -  In cell G2, type the formula =left(E2,10). Copy and paste the formula for all the cells in that column. This will extract the date portion from the AppointmentDay column.\n",
    "#### - In cell H1, type column name sameDayOrBefore\n",
    "#### - In cell H2, type formula =if(G2=F2,\"Same Day\", if(G2<F2, \"Booked before\", \"Investigate\")) With this we can find out which appointments were scheduled before the AppointmentDay and which were scheduled on the same day. \n"
   ]
  },
  {
   "cell_type": "markdown",
   "metadata": {},
   "source": [
    "<a id='wrangling'></a>\n",
    "## Data Wrangling\n",
    "\n",
    "> In this section, we will load the data, check for cleanliness, and then trim and clean the dataset for analysis. \n",
    "\n",
    "### General Properties\n",
    "\n",
    "> We will import various data analysis and data visualization libraries, \n",
    "> load the data, \n",
    "> and check the first few rows of the data to check that the data has been read in correctly"
   ]
  },
  {
   "cell_type": "code",
   "execution_count": 114,
   "metadata": {
    "scrolled": true
   },
   "outputs": [
    {
     "data": {
      "text/html": [
       "<div>\n",
       "<style scoped>\n",
       "    .dataframe tbody tr th:only-of-type {\n",
       "        vertical-align: middle;\n",
       "    }\n",
       "\n",
       "    .dataframe tbody tr th {\n",
       "        vertical-align: top;\n",
       "    }\n",
       "\n",
       "    .dataframe thead th {\n",
       "        text-align: right;\n",
       "    }\n",
       "</style>\n",
       "<table border=\"1\" class=\"dataframe\">\n",
       "  <thead>\n",
       "    <tr style=\"text-align: right;\">\n",
       "      <th></th>\n",
       "      <th>PatientId</th>\n",
       "      <th>AppointmentID</th>\n",
       "      <th>Gender</th>\n",
       "      <th>ScheduledDay</th>\n",
       "      <th>AppointmentDay</th>\n",
       "      <th>ScheduledDayDate</th>\n",
       "      <th>AppointmentDayDate</th>\n",
       "      <th>SameOrBefore</th>\n",
       "      <th>Age</th>\n",
       "      <th>Neighbourhood</th>\n",
       "      <th>Scholarship</th>\n",
       "      <th>Hipertension</th>\n",
       "      <th>Diabetes</th>\n",
       "      <th>Alcoholism</th>\n",
       "      <th>Handcap</th>\n",
       "      <th>SMS_received</th>\n",
       "      <th>No_show</th>\n",
       "    </tr>\n",
       "  </thead>\n",
       "  <tbody>\n",
       "    <tr>\n",
       "      <th>0</th>\n",
       "      <td>2.987250e+13</td>\n",
       "      <td>5642903</td>\n",
       "      <td>F</td>\n",
       "      <td>2016-04-29T18:38:08Z</td>\n",
       "      <td>2016-04-29T00:00:00Z</td>\n",
       "      <td>2016-04-29</td>\n",
       "      <td>2016-04-29</td>\n",
       "      <td>Same Day</td>\n",
       "      <td>62</td>\n",
       "      <td>JARDIM DA PENHA</td>\n",
       "      <td>0</td>\n",
       "      <td>1</td>\n",
       "      <td>0</td>\n",
       "      <td>0</td>\n",
       "      <td>0</td>\n",
       "      <td>0</td>\n",
       "      <td>No</td>\n",
       "    </tr>\n",
       "    <tr>\n",
       "      <th>1</th>\n",
       "      <td>5.589980e+14</td>\n",
       "      <td>5642503</td>\n",
       "      <td>M</td>\n",
       "      <td>2016-04-29T16:08:27Z</td>\n",
       "      <td>2016-04-29T00:00:00Z</td>\n",
       "      <td>2016-04-29</td>\n",
       "      <td>2016-04-29</td>\n",
       "      <td>Same Day</td>\n",
       "      <td>56</td>\n",
       "      <td>JARDIM DA PENHA</td>\n",
       "      <td>0</td>\n",
       "      <td>0</td>\n",
       "      <td>0</td>\n",
       "      <td>0</td>\n",
       "      <td>0</td>\n",
       "      <td>0</td>\n",
       "      <td>No</td>\n",
       "    </tr>\n",
       "    <tr>\n",
       "      <th>2</th>\n",
       "      <td>4.262960e+12</td>\n",
       "      <td>5642549</td>\n",
       "      <td>F</td>\n",
       "      <td>2016-04-29T16:19:04Z</td>\n",
       "      <td>2016-04-29T00:00:00Z</td>\n",
       "      <td>2016-04-29</td>\n",
       "      <td>2016-04-29</td>\n",
       "      <td>Same Day</td>\n",
       "      <td>62</td>\n",
       "      <td>MATA DA PRAIA</td>\n",
       "      <td>0</td>\n",
       "      <td>0</td>\n",
       "      <td>0</td>\n",
       "      <td>0</td>\n",
       "      <td>0</td>\n",
       "      <td>0</td>\n",
       "      <td>No</td>\n",
       "    </tr>\n",
       "    <tr>\n",
       "      <th>3</th>\n",
       "      <td>8.679510e+11</td>\n",
       "      <td>5642828</td>\n",
       "      <td>F</td>\n",
       "      <td>2016-04-29T17:29:31Z</td>\n",
       "      <td>2016-04-29T00:00:00Z</td>\n",
       "      <td>2016-04-29</td>\n",
       "      <td>2016-04-29</td>\n",
       "      <td>Same Day</td>\n",
       "      <td>8</td>\n",
       "      <td>PONTAL DE CAMBURI</td>\n",
       "      <td>0</td>\n",
       "      <td>0</td>\n",
       "      <td>0</td>\n",
       "      <td>0</td>\n",
       "      <td>0</td>\n",
       "      <td>0</td>\n",
       "      <td>No</td>\n",
       "    </tr>\n",
       "    <tr>\n",
       "      <th>4</th>\n",
       "      <td>8.841190e+12</td>\n",
       "      <td>5642494</td>\n",
       "      <td>F</td>\n",
       "      <td>2016-04-29T16:07:23Z</td>\n",
       "      <td>2016-04-29T00:00:00Z</td>\n",
       "      <td>2016-04-29</td>\n",
       "      <td>2016-04-29</td>\n",
       "      <td>Same Day</td>\n",
       "      <td>56</td>\n",
       "      <td>JARDIM DA PENHA</td>\n",
       "      <td>0</td>\n",
       "      <td>1</td>\n",
       "      <td>1</td>\n",
       "      <td>0</td>\n",
       "      <td>0</td>\n",
       "      <td>0</td>\n",
       "      <td>No</td>\n",
       "    </tr>\n",
       "  </tbody>\n",
       "</table>\n",
       "</div>"
      ],
      "text/plain": [
       "      PatientId  AppointmentID Gender          ScheduledDay  \\\n",
       "0  2.987250e+13        5642903      F  2016-04-29T18:38:08Z   \n",
       "1  5.589980e+14        5642503      M  2016-04-29T16:08:27Z   \n",
       "2  4.262960e+12        5642549      F  2016-04-29T16:19:04Z   \n",
       "3  8.679510e+11        5642828      F  2016-04-29T17:29:31Z   \n",
       "4  8.841190e+12        5642494      F  2016-04-29T16:07:23Z   \n",
       "\n",
       "         AppointmentDay ScheduledDayDate AppointmentDayDate SameOrBefore  Age  \\\n",
       "0  2016-04-29T00:00:00Z       2016-04-29         2016-04-29     Same Day   62   \n",
       "1  2016-04-29T00:00:00Z       2016-04-29         2016-04-29     Same Day   56   \n",
       "2  2016-04-29T00:00:00Z       2016-04-29         2016-04-29     Same Day   62   \n",
       "3  2016-04-29T00:00:00Z       2016-04-29         2016-04-29     Same Day    8   \n",
       "4  2016-04-29T00:00:00Z       2016-04-29         2016-04-29     Same Day   56   \n",
       "\n",
       "       Neighbourhood  Scholarship  Hipertension  Diabetes  Alcoholism  \\\n",
       "0    JARDIM DA PENHA            0             1         0           0   \n",
       "1    JARDIM DA PENHA            0             0         0           0   \n",
       "2      MATA DA PRAIA            0             0         0           0   \n",
       "3  PONTAL DE CAMBURI            0             0         0           0   \n",
       "4    JARDIM DA PENHA            0             1         1           0   \n",
       "\n",
       "   Handcap  SMS_received No_show  \n",
       "0        0             0      No  \n",
       "1        0             0      No  \n",
       "2        0             0      No  \n",
       "3        0             0      No  \n",
       "4        0             0      No  "
      ]
     },
     "execution_count": 114,
     "metadata": {},
     "output_type": "execute_result"
    }
   ],
   "source": [
    "import numpy as np\n",
    "import pandas as pd\n",
    "import matplotlib.pyplot as plt\n",
    "import seaborn as sns\n",
    "%matplotlib inline\n",
    "\n",
    "\n",
    "df = pd.read_csv('noshowappointments-kagglev2-may-2016.csv')\n",
    "\n",
    "df.head()"
   ]
  },
  {
   "cell_type": "markdown",
   "metadata": {},
   "source": [
    "### Check the number of rows and columns in the data and also the datatypes of the different variables"
   ]
  },
  {
   "cell_type": "code",
   "execution_count": 115,
   "metadata": {
    "scrolled": true
   },
   "outputs": [
    {
     "name": "stdout",
     "output_type": "stream",
     "text": [
      "<class 'pandas.core.frame.DataFrame'>\n",
      "RangeIndex: 110527 entries, 0 to 110526\n",
      "Data columns (total 17 columns):\n",
      "PatientId             110527 non-null float64\n",
      "AppointmentID         110527 non-null int64\n",
      "Gender                110527 non-null object\n",
      "ScheduledDay          110527 non-null object\n",
      "AppointmentDay        110527 non-null object\n",
      "ScheduledDayDate      110527 non-null object\n",
      "AppointmentDayDate    110527 non-null object\n",
      "SameOrBefore          110527 non-null object\n",
      "Age                   110527 non-null int64\n",
      "Neighbourhood         110527 non-null object\n",
      "Scholarship           110527 non-null int64\n",
      "Hipertension          110527 non-null int64\n",
      "Diabetes              110527 non-null int64\n",
      "Alcoholism            110527 non-null int64\n",
      "Handcap               110527 non-null int64\n",
      "SMS_received          110527 non-null int64\n",
      "No_show               110527 non-null object\n",
      "dtypes: float64(1), int64(8), object(8)\n",
      "memory usage: 14.3+ MB\n"
     ]
    }
   ],
   "source": [
    "df.info()"
   ]
  },
  {
   "cell_type": "markdown",
   "metadata": {},
   "source": [
    "### Check the variables descriptive statistics"
   ]
  },
  {
   "cell_type": "code",
   "execution_count": 116,
   "metadata": {},
   "outputs": [
    {
     "data": {
      "text/html": [
       "<div>\n",
       "<style scoped>\n",
       "    .dataframe tbody tr th:only-of-type {\n",
       "        vertical-align: middle;\n",
       "    }\n",
       "\n",
       "    .dataframe tbody tr th {\n",
       "        vertical-align: top;\n",
       "    }\n",
       "\n",
       "    .dataframe thead th {\n",
       "        text-align: right;\n",
       "    }\n",
       "</style>\n",
       "<table border=\"1\" class=\"dataframe\">\n",
       "  <thead>\n",
       "    <tr style=\"text-align: right;\">\n",
       "      <th></th>\n",
       "      <th>PatientId</th>\n",
       "      <th>AppointmentID</th>\n",
       "      <th>Age</th>\n",
       "      <th>Scholarship</th>\n",
       "      <th>Hipertension</th>\n",
       "      <th>Diabetes</th>\n",
       "      <th>Alcoholism</th>\n",
       "      <th>Handcap</th>\n",
       "      <th>SMS_received</th>\n",
       "    </tr>\n",
       "  </thead>\n",
       "  <tbody>\n",
       "    <tr>\n",
       "      <th>count</th>\n",
       "      <td>1.105270e+05</td>\n",
       "      <td>1.105270e+05</td>\n",
       "      <td>110527.000000</td>\n",
       "      <td>110527.000000</td>\n",
       "      <td>110527.000000</td>\n",
       "      <td>110527.000000</td>\n",
       "      <td>110527.000000</td>\n",
       "      <td>110527.000000</td>\n",
       "      <td>110527.000000</td>\n",
       "    </tr>\n",
       "    <tr>\n",
       "      <th>mean</th>\n",
       "      <td>1.474963e+14</td>\n",
       "      <td>5.675305e+06</td>\n",
       "      <td>37.088874</td>\n",
       "      <td>0.098266</td>\n",
       "      <td>0.197246</td>\n",
       "      <td>0.071865</td>\n",
       "      <td>0.030400</td>\n",
       "      <td>0.022248</td>\n",
       "      <td>0.321026</td>\n",
       "    </tr>\n",
       "    <tr>\n",
       "      <th>std</th>\n",
       "      <td>2.560949e+14</td>\n",
       "      <td>7.129575e+04</td>\n",
       "      <td>23.110205</td>\n",
       "      <td>0.297675</td>\n",
       "      <td>0.397921</td>\n",
       "      <td>0.258265</td>\n",
       "      <td>0.171686</td>\n",
       "      <td>0.161543</td>\n",
       "      <td>0.466873</td>\n",
       "    </tr>\n",
       "    <tr>\n",
       "      <th>min</th>\n",
       "      <td>3.920000e+04</td>\n",
       "      <td>5.030230e+06</td>\n",
       "      <td>-1.000000</td>\n",
       "      <td>0.000000</td>\n",
       "      <td>0.000000</td>\n",
       "      <td>0.000000</td>\n",
       "      <td>0.000000</td>\n",
       "      <td>0.000000</td>\n",
       "      <td>0.000000</td>\n",
       "    </tr>\n",
       "    <tr>\n",
       "      <th>25%</th>\n",
       "      <td>4.172615e+12</td>\n",
       "      <td>5.640286e+06</td>\n",
       "      <td>18.000000</td>\n",
       "      <td>0.000000</td>\n",
       "      <td>0.000000</td>\n",
       "      <td>0.000000</td>\n",
       "      <td>0.000000</td>\n",
       "      <td>0.000000</td>\n",
       "      <td>0.000000</td>\n",
       "    </tr>\n",
       "    <tr>\n",
       "      <th>50%</th>\n",
       "      <td>3.173180e+13</td>\n",
       "      <td>5.680573e+06</td>\n",
       "      <td>37.000000</td>\n",
       "      <td>0.000000</td>\n",
       "      <td>0.000000</td>\n",
       "      <td>0.000000</td>\n",
       "      <td>0.000000</td>\n",
       "      <td>0.000000</td>\n",
       "      <td>0.000000</td>\n",
       "    </tr>\n",
       "    <tr>\n",
       "      <th>75%</th>\n",
       "      <td>9.439170e+13</td>\n",
       "      <td>5.725524e+06</td>\n",
       "      <td>55.000000</td>\n",
       "      <td>0.000000</td>\n",
       "      <td>0.000000</td>\n",
       "      <td>0.000000</td>\n",
       "      <td>0.000000</td>\n",
       "      <td>0.000000</td>\n",
       "      <td>1.000000</td>\n",
       "    </tr>\n",
       "    <tr>\n",
       "      <th>max</th>\n",
       "      <td>9.999820e+14</td>\n",
       "      <td>5.790484e+06</td>\n",
       "      <td>115.000000</td>\n",
       "      <td>1.000000</td>\n",
       "      <td>1.000000</td>\n",
       "      <td>1.000000</td>\n",
       "      <td>1.000000</td>\n",
       "      <td>4.000000</td>\n",
       "      <td>1.000000</td>\n",
       "    </tr>\n",
       "  </tbody>\n",
       "</table>\n",
       "</div>"
      ],
      "text/plain": [
       "          PatientId  AppointmentID            Age    Scholarship  \\\n",
       "count  1.105270e+05   1.105270e+05  110527.000000  110527.000000   \n",
       "mean   1.474963e+14   5.675305e+06      37.088874       0.098266   \n",
       "std    2.560949e+14   7.129575e+04      23.110205       0.297675   \n",
       "min    3.920000e+04   5.030230e+06      -1.000000       0.000000   \n",
       "25%    4.172615e+12   5.640286e+06      18.000000       0.000000   \n",
       "50%    3.173180e+13   5.680573e+06      37.000000       0.000000   \n",
       "75%    9.439170e+13   5.725524e+06      55.000000       0.000000   \n",
       "max    9.999820e+14   5.790484e+06     115.000000       1.000000   \n",
       "\n",
       "        Hipertension       Diabetes     Alcoholism        Handcap  \\\n",
       "count  110527.000000  110527.000000  110527.000000  110527.000000   \n",
       "mean        0.197246       0.071865       0.030400       0.022248   \n",
       "std         0.397921       0.258265       0.171686       0.161543   \n",
       "min         0.000000       0.000000       0.000000       0.000000   \n",
       "25%         0.000000       0.000000       0.000000       0.000000   \n",
       "50%         0.000000       0.000000       0.000000       0.000000   \n",
       "75%         0.000000       0.000000       0.000000       0.000000   \n",
       "max         1.000000       1.000000       1.000000       4.000000   \n",
       "\n",
       "        SMS_received  \n",
       "count  110527.000000  \n",
       "mean        0.321026  \n",
       "std         0.466873  \n",
       "min         0.000000  \n",
       "25%         0.000000  \n",
       "50%         0.000000  \n",
       "75%         1.000000  \n",
       "max         1.000000  "
      ]
     },
     "execution_count": 116,
     "metadata": {},
     "output_type": "execute_result"
    }
   ],
   "source": [
    "df.describe()"
   ]
  },
  {
   "cell_type": "markdown",
   "metadata": {},
   "source": [
    "## Missing Data\n",
    "\n",
    "We can use seaborn to create a simple heatmap to see where we are missing data!"
   ]
  },
  {
   "cell_type": "code",
   "execution_count": 117,
   "metadata": {},
   "outputs": [
    {
     "data": {
      "image/png": "[encoded data removed]",
      "text/plain": [
       "<matplotlib.figure.Figure at 0x7f5f85694940>"
      ]
     },
     "metadata": {
      "needs_background": "light"
     },
     "output_type": "display_data"
    }
   ],
   "source": [
    "sns.heatmap(df.isnull(),yticklabels=False,cbar=False,cmap='viridis');"
   ]
  },
  {
   "cell_type": "markdown",
   "metadata": {},
   "source": [
    "There is no missing data in any of the columns. Let us continue checking the data for duplicate records, outliers and if datatypes are correct."
   ]
  },
  {
   "cell_type": "markdown",
   "metadata": {},
   "source": [
    "### Check for duplicate records "
   ]
  },
  {
   "cell_type": "code",
   "execution_count": 118,
   "metadata": {},
   "outputs": [
    {
     "data": {
      "text/plain": [
       "0"
      ]
     },
     "execution_count": 118,
     "metadata": {},
     "output_type": "execute_result"
    }
   ],
   "source": [
    "# Checking for duplicate records\n",
    "sum(df.duplicated())"
   ]
  },
  {
   "cell_type": "code",
   "execution_count": 119,
   "metadata": {},
   "outputs": [
    {
     "data": {
      "text/plain": [
       "48783"
      ]
     },
     "execution_count": 119,
     "metadata": {},
     "output_type": "execute_result"
    }
   ],
   "source": [
    "# Checking for patient IDs that have \n",
    "sum(df['PatientId'].duplicated())"
   ]
  },
  {
   "cell_type": "markdown",
   "metadata": {},
   "source": [
    "##### Analysis: No duplicate records in the dataset. 48783 PatientIds have more than one appointments"
   ]
  },
  {
   "cell_type": "markdown",
   "metadata": {},
   "source": [
    "### Exploring the variables"
   ]
  },
  {
   "cell_type": "markdown",
   "metadata": {},
   "source": [
    "#### Variable: Gender"
   ]
  },
  {
   "cell_type": "code",
   "execution_count": 120,
   "metadata": {},
   "outputs": [
    {
     "name": "stdout",
     "output_type": "stream",
     "text": [
      "Gender unique values are\n",
      "['F' 'M']\n"
     ]
    }
   ],
   "source": [
    "print('Gender unique values are') \n",
    "\n",
    "print(df['Gender'].unique())"
   ]
  },
  {
   "cell_type": "code",
   "execution_count": 121,
   "metadata": {},
   "outputs": [
    {
     "data": {
      "image/png": "[encoded data removed]",
      "text/plain": [
       "<matplotlib.figure.Figure at 0x7f5f857df208>"
      ]
     },
     "metadata": {},
     "output_type": "display_data"
    }
   ],
   "source": [
    "sns.set_style('whitegrid')\n",
    "sns.countplot(x='Gender',data=df,palette='RdBu_r');"
   ]
  },
  {
   "cell_type": "markdown",
   "metadata": {},
   "source": [
    "##### Analysis : There are more females than males in the dataset"
   ]
  },
  {
   "cell_type": "markdown",
   "metadata": {},
   "source": [
    "#### Variable: ScheduledDay and AppointmentDay"
   ]
  },
  {
   "cell_type": "code",
   "execution_count": 122,
   "metadata": {},
   "outputs": [
    {
     "name": "stdout",
     "output_type": "stream",
     "text": [
      "<class 'str'>\n",
      "<class 'str'>\n"
     ]
    }
   ],
   "source": [
    "# Checkin the datatype of ScheduledDay and AppointmentDay\n",
    "\n",
    "print(type(df['ScheduledDay'].iloc[0]))\n",
    "print(type(df['AppointmentDay'].iloc[0]))\n"
   ]
  },
  {
   "cell_type": "code",
   "execution_count": 123,
   "metadata": {},
   "outputs": [
    {
     "data": {
      "text/plain": [
       "booked before    71959\n",
       "Same Day         38563\n",
       "investigate          5\n",
       "Name: SameOrBefore, dtype: int64"
      ]
     },
     "execution_count": 123,
     "metadata": {},
     "output_type": "execute_result"
    }
   ],
   "source": [
    "# Checking the distribution of appointments booked on the same day or those that are booked before or after\n",
    "\n",
    "df['SameOrBefore'].value_counts()"
   ]
  },
  {
   "cell_type": "markdown",
   "metadata": {},
   "source": [
    "##### Analysis: Convert ScheduledDay and AppointmentDay to datetime datatype. Delete 5 records where ScheduledDay is after the AppointmentDay"
   ]
  },
  {
   "cell_type": "markdown",
   "metadata": {},
   "source": [
    "#### Variable: Age"
   ]
  },
  {
   "cell_type": "code",
   "execution_count": 124,
   "metadata": {},
   "outputs": [
    {
     "name": "stdout",
     "output_type": "stream",
     "text": [
      "Age distribution is\n"
     ]
    },
    {
     "data": {
      "text/plain": [
       "count    110527.000000\n",
       "mean         37.088874\n",
       "std          23.110205\n",
       "min          -1.000000\n",
       "25%          18.000000\n",
       "50%          37.000000\n",
       "75%          55.000000\n",
       "max         115.000000\n",
       "Name: Age, dtype: float64"
      ]
     },
     "execution_count": 124,
     "metadata": {},
     "output_type": "execute_result"
    }
   ],
   "source": [
    "# Checking the distribution of values in Age column\n",
    "print('Age distribution is') \n",
    "\n",
    "df['Age'].describe()"
   ]
  },
  {
   "cell_type": "code",
   "execution_count": 125,
   "metadata": {},
   "outputs": [
    {
     "data": {
      "image/png": "[encoded data removed]",
      "text/plain": [
       "<matplotlib.figure.Figure at 0x7f5f8578d9e8>"
      ]
     },
     "metadata": {},
     "output_type": "display_data"
    }
   ],
   "source": [
    "df['Age'].hist(bins=30,color='darkred',alpha=0.7);"
   ]
  },
  {
   "cell_type": "code",
   "execution_count": 126,
   "metadata": {},
   "outputs": [
    {
     "name": "stdout",
     "output_type": "stream",
     "text": [
      "0.0\n",
      "86.0\n"
     ]
    }
   ],
   "source": [
    "# Finding 1st percentile and 99th percentile values \n",
    "print(np.percentile(df['Age'], 1))\n",
    "print(np.percentile(df['Age'],99))"
   ]
  },
  {
   "cell_type": "code",
   "execution_count": 127,
   "metadata": {},
   "outputs": [
    {
     "data": {
      "text/plain": [
       "11"
      ]
     },
     "execution_count": 127,
     "metadata": {},
     "output_type": "execute_result"
    }
   ],
   "source": [
    "# Finding the count of patients where age is greater than or equal to 100\n",
    "df[df['Age']>=100]['PatientId'].count()"
   ]
  },
  {
   "cell_type": "code",
   "execution_count": 128,
   "metadata": {},
   "outputs": [
    {
     "data": {
      "text/plain": [
       "900"
      ]
     },
     "execution_count": 128,
     "metadata": {},
     "output_type": "execute_result"
    }
   ],
   "source": [
    "# Finding the count of patients where age is greater than 99th percentile value\n",
    "df[df['Age']>86]['PatientId'].count()"
   ]
  },
  {
   "cell_type": "markdown",
   "metadata": {},
   "source": [
    "##### Analysis: The Age variable seems to be skewed to the right. 75th percentile is 55 and maximum is 115."
   ]
  },
  {
   "cell_type": "markdown",
   "metadata": {},
   "source": [
    "#### Variable: Scholarship"
   ]
  },
  {
   "cell_type": "code",
   "execution_count": 129,
   "metadata": {},
   "outputs": [
    {
     "name": "stdout",
     "output_type": "stream",
     "text": [
      "Scholarship unique values are\n",
      "[0 1]\n",
      "\n",
      "\n"
     ]
    }
   ],
   "source": [
    "print('Scholarship unique values are')\n",
    "print(df['Scholarship'].unique())\n",
    "print('\\n')"
   ]
  },
  {
   "cell_type": "code",
   "execution_count": 130,
   "metadata": {},
   "outputs": [
    {
     "data": {
      "text/plain": [
       "No_show  Scholarship\n",
       "No       0              79925\n",
       "         1               8283\n",
       "Yes      0              19741\n",
       "         1               2578\n",
       "Name: Scholarship, dtype: int64"
      ]
     },
     "execution_count": 130,
     "metadata": {},
     "output_type": "execute_result"
    }
   ],
   "source": [
    "# Analyzing Scholarship and No_show variable together\n",
    "df.groupby(['No_show','Scholarship'])['Scholarship'].count()"
   ]
  },
  {
   "cell_type": "markdown",
   "metadata": {},
   "source": [
    "#### Variable: Hipertension"
   ]
  },
  {
   "cell_type": "code",
   "execution_count": 131,
   "metadata": {},
   "outputs": [
    {
     "name": "stdout",
     "output_type": "stream",
     "text": [
      "Hipertension unique values are\n",
      "[1 0]\n",
      "\n",
      "\n"
     ]
    }
   ],
   "source": [
    "print('Hipertension unique values are')\n",
    "print(df['Hipertension'].unique())\n",
    "print('\\n')"
   ]
  },
  {
   "cell_type": "code",
   "execution_count": 132,
   "metadata": {},
   "outputs": [
    {
     "data": {
      "text/plain": [
       "No_show  Hipertension\n",
       "No       0               70179\n",
       "         1               18029\n",
       "Yes      0               18547\n",
       "         1                3772\n",
       "Name: Hipertension, dtype: int64"
      ]
     },
     "execution_count": 132,
     "metadata": {},
     "output_type": "execute_result"
    }
   ],
   "source": [
    "# Analyzing Hipertension and No_show variable together\n",
    "\n",
    "df.groupby(['No_show','Hipertension'])['Hipertension'].count()"
   ]
  },
  {
   "cell_type": "markdown",
   "metadata": {},
   "source": [
    "#### Variable: Diabetes"
   ]
  },
  {
   "cell_type": "code",
   "execution_count": 133,
   "metadata": {},
   "outputs": [
    {
     "name": "stdout",
     "output_type": "stream",
     "text": [
      "Diabetes unique values are\n",
      "[0 1]\n",
      "\n",
      "\n"
     ]
    }
   ],
   "source": [
    "print('Diabetes unique values are')\n",
    "print(df['Diabetes'].unique())\n",
    "print('\\n')"
   ]
  },
  {
   "cell_type": "code",
   "execution_count": 134,
   "metadata": {},
   "outputs": [
    {
     "data": {
      "text/plain": [
       "No_show  Diabetes\n",
       "No       0           81695\n",
       "         1            6513\n",
       "Yes      0           20889\n",
       "         1            1430\n",
       "Name: Diabetes, dtype: int64"
      ]
     },
     "execution_count": 134,
     "metadata": {},
     "output_type": "execute_result"
    }
   ],
   "source": [
    "# Analyzing Diabetes and No_show variable together\n",
    "df.groupby(['No_show','Diabetes'])['Diabetes'].count()"
   ]
  },
  {
   "cell_type": "markdown",
   "metadata": {},
   "source": [
    "#### Variable: Alcoholism"
   ]
  },
  {
   "cell_type": "code",
   "execution_count": 135,
   "metadata": {},
   "outputs": [
    {
     "name": "stdout",
     "output_type": "stream",
     "text": [
      "Alcoholism unique values are\n",
      "[0 1]\n",
      "\n",
      "\n"
     ]
    }
   ],
   "source": [
    "print('Alcoholism unique values are')\n",
    "print(df['Alcoholism'].unique())\n",
    "print('\\n')"
   ]
  },
  {
   "cell_type": "code",
   "execution_count": 136,
   "metadata": {},
   "outputs": [
    {
     "data": {
      "text/plain": [
       "No_show  Alcoholism\n",
       "No       0             85525\n",
       "         1              2683\n",
       "Yes      0             21642\n",
       "         1               677\n",
       "Name: Alcoholism, dtype: int64"
      ]
     },
     "execution_count": 136,
     "metadata": {},
     "output_type": "execute_result"
    }
   ],
   "source": [
    "# Analyzing Alcoholism and No_show variable together\n",
    "df.groupby(['No_show','Alcoholism'])['Alcoholism'].count()"
   ]
  },
  {
   "cell_type": "markdown",
   "metadata": {},
   "source": [
    "#### Variable: Handcap"
   ]
  },
  {
   "cell_type": "code",
   "execution_count": 137,
   "metadata": {},
   "outputs": [
    {
     "name": "stdout",
     "output_type": "stream",
     "text": [
      "Handicap unique values are\n",
      "[0 1 2 3 4]\n",
      "\n",
      "\n"
     ]
    }
   ],
   "source": [
    "print('Handicap unique values are')\n",
    "print(df['Handcap'].unique())\n",
    "print('\\n')"
   ]
  },
  {
   "cell_type": "code",
   "execution_count": 138,
   "metadata": {},
   "outputs": [
    {
     "data": {
      "text/plain": [
       "No_show  Handcap\n",
       "No       0          86374\n",
       "         1           1676\n",
       "         2            146\n",
       "         3             10\n",
       "         4              2\n",
       "Yes      0          21912\n",
       "         1            366\n",
       "         2             37\n",
       "         3              3\n",
       "         4              1\n",
       "Name: Handcap, dtype: int64"
      ]
     },
     "execution_count": 138,
     "metadata": {},
     "output_type": "execute_result"
    }
   ],
   "source": [
    "# Analyzing Handcap and No_show variable together\n",
    "df.groupby(['No_show','Handcap'])['Handcap'].count()"
   ]
  },
  {
   "cell_type": "code",
   "execution_count": 139,
   "metadata": {},
   "outputs": [
    {
     "data": {
      "image/png": "[encoded data removed]",
      "text/plain": [
       "<matplotlib.figure.Figure at 0x7f5f79631438>"
      ]
     },
     "metadata": {},
     "output_type": "display_data"
    }
   ],
   "source": [
    "df.groupby(['No_show','Handcap'])['Handcap'].count().plot(kind='bar');"
   ]
  },
  {
   "cell_type": "markdown",
   "metadata": {},
   "source": [
    "#### Variable: SMS_received"
   ]
  },
  {
   "cell_type": "code",
   "execution_count": 140,
   "metadata": {},
   "outputs": [
    {
     "name": "stdout",
     "output_type": "stream",
     "text": [
      "SMS_received unique values are\n",
      "[0 1]\n"
     ]
    }
   ],
   "source": [
    "print('SMS_received unique values are')\n",
    "print(df['SMS_received'].unique())"
   ]
  },
  {
   "cell_type": "code",
   "execution_count": 141,
   "metadata": {},
   "outputs": [
    {
     "data": {
      "text/plain": [
       "No_show  SMS_received\n",
       "No       0               62510\n",
       "         1               25698\n",
       "Yes      0               12535\n",
       "         1                9784\n",
       "Name: Handcap, dtype: int64"
      ]
     },
     "execution_count": 141,
     "metadata": {},
     "output_type": "execute_result"
    }
   ],
   "source": [
    "# Analyzing SMS_received and No_show variable together\n",
    "df.groupby(['No_show','SMS_received'])['Handcap'].count()"
   ]
  },
  {
   "cell_type": "markdown",
   "metadata": {},
   "source": [
    "#### Variable: Neighbourhood"
   ]
  },
  {
   "cell_type": "code",
   "execution_count": 142,
   "metadata": {},
   "outputs": [
    {
     "data": {
      "text/plain": [
       "81"
      ]
     },
     "execution_count": 142,
     "metadata": {},
     "output_type": "execute_result"
    }
   ],
   "source": [
    "# No. of unique values in Neighbourhood column\n",
    "df['Neighbourhood'].nunique()"
   ]
  },
  {
   "cell_type": "markdown",
   "metadata": {},
   "source": [
    "#### Variable: No_show"
   ]
  },
  {
   "cell_type": "code",
   "execution_count": 143,
   "metadata": {},
   "outputs": [
    {
     "data": {
      "image/png": "[encoded data removed]",
      "text/plain": [
       "<matplotlib.figure.Figure at 0x7f5f796936a0>"
      ]
     },
     "metadata": {},
     "output_type": "display_data"
    }
   ],
   "source": [
    "sns.set_style('whitegrid')\n",
    "sns.countplot(x='No_show',data=df,palette='RdBu_r');"
   ]
  },
  {
   "cell_type": "code",
   "execution_count": 144,
   "metadata": {},
   "outputs": [
    {
     "data": {
      "text/plain": [
       "PatientId             0.201933\n",
       "AppointmentID         0.201933\n",
       "Gender                0.201933\n",
       "ScheduledDay          0.201933\n",
       "AppointmentDay        0.201933\n",
       "ScheduledDayDate      0.201933\n",
       "AppointmentDayDate    0.201933\n",
       "SameOrBefore          0.201933\n",
       "Age                   0.201933\n",
       "Neighbourhood         0.201933\n",
       "Scholarship           0.201933\n",
       "Hipertension          0.201933\n",
       "Diabetes              0.201933\n",
       "Alcoholism            0.201933\n",
       "Handcap               0.201933\n",
       "SMS_received          0.201933\n",
       "No_show               0.201933\n",
       "dtype: float64"
      ]
     },
     "execution_count": 144,
     "metadata": {},
     "output_type": "execute_result"
    }
   ],
   "source": [
    "# Calculating the rate of No_show in the dataset\n",
    "df[df['No_show']==\"Yes\"]['PatientId'].count()/(df.count())"
   ]
  },
  {
   "cell_type": "code",
   "execution_count": 145,
   "metadata": {},
   "outputs": [
    {
     "data": {
      "text/plain": [
       "No_show  Gender\n",
       "No       F         57246\n",
       "         M         30962\n",
       "Yes      F         14594\n",
       "         M          7725\n",
       "Name: Gender, dtype: int64"
      ]
     },
     "execution_count": 145,
     "metadata": {},
     "output_type": "execute_result"
    }
   ],
   "source": [
    "# # Analyzing Gender and No_show variable together\n",
    "df.groupby(['No_show','Gender'])['Gender'].count()"
   ]
  },
  {
   "cell_type": "code",
   "execution_count": 146,
   "metadata": {
    "scrolled": true
   },
   "outputs": [
    {
     "data": {
      "image/png": "[encoded data removed]",
      "text/plain": [
       "<matplotlib.figure.Figure at 0x7f5f79611cf8>"
      ]
     },
     "metadata": {},
     "output_type": "display_data"
    }
   ],
   "source": [
    "sns.set_style('whitegrid')\n",
    "sns.countplot(x='No_show',hue='Gender',data=df,palette='RdBu_r');"
   ]
  },
  {
   "cell_type": "markdown",
   "metadata": {},
   "source": [
    "##### Analysis: In this dataset no_show rate is 20% ; among the no shows also females are almost twice in number as compared to males"
   ]
  },
  {
   "cell_type": "markdown",
   "metadata": {},
   "source": [
    "### Initial observations about the data\n",
    "\n",
    "##### - There are 110527 rows and 17 columns \n",
    "\n",
    "##### - There are no missing values in any column\n",
    "\n",
    "##### - PatientID is of float64 datatype, so we should change it  to string type so that it is not used as a numerical variable in the model\n",
    "\n",
    "##### -There are 48783 PatientIDs that have more than one appointment \n",
    "\n",
    "##### - AppointmentID is of int64 datatype. But we will not be able to use it for analysis. So we will drop that column\n",
    "\n",
    "##### - There are 5 rows with value 'investigate' in SameOrBefore column. In these rows ScheduledDay is after the AppointmentDay which does not make sense. So we will delete those rows\n",
    "\n",
    "##### - Age variable has a negative value which is not possible. There is one such record. We wil drop that record.\n",
    "\n",
    "##### - There are 11 PatientIds where age is greater than or equal to 100\n",
    "\n",
    "##### - ScheduledDay and AppointmentDay are of string datatype. We will convert them to datetime datatype\n",
    "\n",
    "##### -  We will create a new variable called 'lag' which is the difference between appointment_day_date and scheduled_day_date\n",
    "\n",
    "##### - Neighbourhood column has 81 unique values \n",
    "\n",
    "##### -  Handicap has values [0,1,2,3,4]. So we can make dummy variables for this variable\n",
    "\n",
    "##### -  No_show column has values \"No\" and \"Yes\". We will replace \"Yes\" with 1 and \"No\" with 0 so that it can be used in logistic regression\n",
    "\n",
    "##### - The remaining datatypes look to be correct"
   ]
  },
  {
   "cell_type": "markdown",
   "metadata": {},
   "source": [
    "### Data Cleaning and Feature Engineering"
   ]
  },
  {
   "cell_type": "code",
   "execution_count": 147,
   "metadata": {},
   "outputs": [
    {
     "data": {
      "text/plain": [
       "Index(['patient_id', 'appointmentid', 'gender', 'scheduled_day',\n",
       "       'appointment_day', 'scheduled_day_date', 'appointment_day_date',\n",
       "       'sameorbefore', 'age', 'neighbourhood', 'scholarship', 'hipertension',\n",
       "       'diabetes', 'alcoholism', 'handicap', 'sms_received', 'no_show'],\n",
       "      dtype='object')"
      ]
     },
     "execution_count": 147,
     "metadata": {},
     "output_type": "execute_result"
    }
   ],
   "source": [
    "# renaming all columns to simpler names for our exploration\n",
    "df.rename(columns={'PatientId': 'patient_id', 'ScheduledDay': 'scheduled_day', 'AppointmentDay': 'appointment_day', 'ScheduledDayDate':'scheduled_day_date','AppointmentDayDate':'appointment_day_date', 'SameOrBefore':'sameOrBefore','SMS_received': 'sms_received', 'No-show': 'no_show', 'Handcap': 'handicap' }, inplace=True)\n",
    "df.rename(columns=lambda x: x.lower(), inplace=True)\n",
    "df.columns"
   ]
  },
  {
   "cell_type": "code",
   "execution_count": 148,
   "metadata": {},
   "outputs": [],
   "source": [
    "# formatting the patient_id column as string\n",
    "df.patient_id = df.patient_id.apply(lambda patient: str(int(patient)))"
   ]
  },
  {
   "cell_type": "code",
   "execution_count": 149,
   "metadata": {},
   "outputs": [],
   "source": [
    "df['scheduled_day']=pd.to_datetime(df['scheduled_day'])"
   ]
  },
  {
   "cell_type": "code",
   "execution_count": 150,
   "metadata": {},
   "outputs": [
    {
     "data": {
      "text/plain": [
       "Index(['patient_id', 'appointmentid', 'gender', 'scheduled_day',\n",
       "       'appointment_day', 'scheduled_day_date', 'appointment_day_date',\n",
       "       'sameorbefore', 'age', 'neighbourhood', 'scholarship', 'hipertension',\n",
       "       'diabetes', 'alcoholism', 'handicap', 'sms_received', 'no_show'],\n",
       "      dtype='object')"
      ]
     },
     "execution_count": 150,
     "metadata": {},
     "output_type": "execute_result"
    }
   ],
   "source": [
    "df.columns"
   ]
  },
  {
   "cell_type": "code",
   "execution_count": 151,
   "metadata": {},
   "outputs": [],
   "source": [
    "df.drop('appointmentid', axis =1, inplace=True)"
   ]
  },
  {
   "cell_type": "code",
   "execution_count": 152,
   "metadata": {},
   "outputs": [
    {
     "data": {
      "text/plain": [
       "Int64Index([27033, 55226, 64175, 71533, 72362], dtype='int64')"
      ]
     },
     "execution_count": 152,
     "metadata": {},
     "output_type": "execute_result"
    }
   ],
   "source": [
    "# Identifying records where scheduled_day is after the appointment_day\n",
    "i = df[df['sameorbefore']=='investigate'].index\n",
    "i"
   ]
  },
  {
   "cell_type": "code",
   "execution_count": 153,
   "metadata": {},
   "outputs": [],
   "source": [
    "# deleting records where scheduled_day is after the appointment_day\n",
    "df.drop(i, inplace=True)"
   ]
  },
  {
   "cell_type": "code",
   "execution_count": 154,
   "metadata": {},
   "outputs": [
    {
     "data": {
      "text/plain": [
       "Int64Index([99832], dtype='int64')"
      ]
     },
     "execution_count": 154,
     "metadata": {},
     "output_type": "execute_result"
    }
   ],
   "source": [
    "# Locating the rows where the age value is negative\n",
    "j = df[df['age']<0].index\n",
    "j"
   ]
  },
  {
   "cell_type": "code",
   "execution_count": 155,
   "metadata": {},
   "outputs": [],
   "source": [
    "# Deleting those rows where age value is negative\n",
    "df.drop(j, inplace = True)"
   ]
  },
  {
   "cell_type": "code",
   "execution_count": 156,
   "metadata": {},
   "outputs": [
    {
     "data": {
      "text/plain": [
       "count    110521.000000\n",
       "mean         37.089386\n",
       "std          23.109885\n",
       "min           0.000000\n",
       "25%          18.000000\n",
       "50%          37.000000\n",
       "75%          55.000000\n",
       "max         115.000000\n",
       "Name: age, dtype: float64"
      ]
     },
     "execution_count": 156,
     "metadata": {},
     "output_type": "execute_result"
    }
   ],
   "source": [
    "# Checking that no more negative values are present in the Age column\n",
    "df['age'].describe()"
   ]
  },
  {
   "cell_type": "code",
   "execution_count": 157,
   "metadata": {},
   "outputs": [
    {
     "data": {
      "text/plain": [
       "3539"
      ]
     },
     "execution_count": 157,
     "metadata": {},
     "output_type": "execute_result"
    }
   ],
   "source": [
    "# Checking how many rows have value of 0 in Age column\n",
    "df[df['age']==0]['age'].count()"
   ]
  },
  {
   "cell_type": "markdown",
   "metadata": {},
   "source": [
    "##### - We will assume that if the Age value is 0, then that appoinment is for an infant who has not completed 1 year of age yet."
   ]
  },
  {
   "cell_type": "code",
   "execution_count": 158,
   "metadata": {},
   "outputs": [
    {
     "data": {
      "text/plain": [
       "count    110521.000000\n",
       "mean         37.089386\n",
       "std          23.109885\n",
       "min           0.000000\n",
       "25%          18.000000\n",
       "50%          37.000000\n",
       "75%          55.000000\n",
       "max         115.000000\n",
       "Name: age, dtype: float64"
      ]
     },
     "execution_count": 158,
     "metadata": {},
     "output_type": "execute_result"
    }
   ],
   "source": [
    "# Checking the distribution of values in age column for creating bins\n",
    "\n",
    "df['age'].describe()"
   ]
  },
  {
   "cell_type": "code",
   "execution_count": 159,
   "metadata": {},
   "outputs": [],
   "source": [
    "#Bin edges that will be used to \"cut\" the data into groups\n",
    "bin_edges = [ 0,20,40,65,115]"
   ]
  },
  {
   "cell_type": "code",
   "execution_count": 160,
   "metadata": {},
   "outputs": [],
   "source": [
    "# Labels for the four age groups\n",
    "bin_names = ['Youth', 'Adult', 'Middle_Aged', 'Senior']"
   ]
  },
  {
   "cell_type": "code",
   "execution_count": 161,
   "metadata": {},
   "outputs": [],
   "source": [
    "# Creating age_group column\n",
    "df['age_group'] = pd.cut(df['age'], bin_edges, labels=bin_names)"
   ]
  },
  {
   "cell_type": "code",
   "execution_count": 162,
   "metadata": {},
   "outputs": [
    {
     "data": {
      "text/html": [
       "<div>\n",
       "<style scoped>\n",
       "    .dataframe tbody tr th:only-of-type {\n",
       "        vertical-align: middle;\n",
       "    }\n",
       "\n",
       "    .dataframe tbody tr th {\n",
       "        vertical-align: top;\n",
       "    }\n",
       "\n",
       "    .dataframe thead th {\n",
       "        text-align: right;\n",
       "    }\n",
       "</style>\n",
       "<table border=\"1\" class=\"dataframe\">\n",
       "  <thead>\n",
       "    <tr style=\"text-align: right;\">\n",
       "      <th></th>\n",
       "      <th>patient_id</th>\n",
       "      <th>gender</th>\n",
       "      <th>scheduled_day</th>\n",
       "      <th>appointment_day</th>\n",
       "      <th>scheduled_day_date</th>\n",
       "      <th>appointment_day_date</th>\n",
       "      <th>sameorbefore</th>\n",
       "      <th>age</th>\n",
       "      <th>neighbourhood</th>\n",
       "      <th>scholarship</th>\n",
       "      <th>hipertension</th>\n",
       "      <th>diabetes</th>\n",
       "      <th>alcoholism</th>\n",
       "      <th>handicap</th>\n",
       "      <th>sms_received</th>\n",
       "      <th>no_show</th>\n",
       "      <th>age_group</th>\n",
       "    </tr>\n",
       "  </thead>\n",
       "  <tbody>\n",
       "    <tr>\n",
       "      <th>0</th>\n",
       "      <td>29872500000000</td>\n",
       "      <td>F</td>\n",
       "      <td>2016-04-29 18:38:08</td>\n",
       "      <td>2016-04-29T00:00:00Z</td>\n",
       "      <td>2016-04-29</td>\n",
       "      <td>2016-04-29</td>\n",
       "      <td>Same Day</td>\n",
       "      <td>62</td>\n",
       "      <td>JARDIM DA PENHA</td>\n",
       "      <td>0</td>\n",
       "      <td>1</td>\n",
       "      <td>0</td>\n",
       "      <td>0</td>\n",
       "      <td>0</td>\n",
       "      <td>0</td>\n",
       "      <td>No</td>\n",
       "      <td>Middle_Aged</td>\n",
       "    </tr>\n",
       "    <tr>\n",
       "      <th>1</th>\n",
       "      <td>558998000000000</td>\n",
       "      <td>M</td>\n",
       "      <td>2016-04-29 16:08:27</td>\n",
       "      <td>2016-04-29T00:00:00Z</td>\n",
       "      <td>2016-04-29</td>\n",
       "      <td>2016-04-29</td>\n",
       "      <td>Same Day</td>\n",
       "      <td>56</td>\n",
       "      <td>JARDIM DA PENHA</td>\n",
       "      <td>0</td>\n",
       "      <td>0</td>\n",
       "      <td>0</td>\n",
       "      <td>0</td>\n",
       "      <td>0</td>\n",
       "      <td>0</td>\n",
       "      <td>No</td>\n",
       "      <td>Middle_Aged</td>\n",
       "    </tr>\n",
       "    <tr>\n",
       "      <th>2</th>\n",
       "      <td>4262960000000</td>\n",
       "      <td>F</td>\n",
       "      <td>2016-04-29 16:19:04</td>\n",
       "      <td>2016-04-29T00:00:00Z</td>\n",
       "      <td>2016-04-29</td>\n",
       "      <td>2016-04-29</td>\n",
       "      <td>Same Day</td>\n",
       "      <td>62</td>\n",
       "      <td>MATA DA PRAIA</td>\n",
       "      <td>0</td>\n",
       "      <td>0</td>\n",
       "      <td>0</td>\n",
       "      <td>0</td>\n",
       "      <td>0</td>\n",
       "      <td>0</td>\n",
       "      <td>No</td>\n",
       "      <td>Middle_Aged</td>\n",
       "    </tr>\n",
       "    <tr>\n",
       "      <th>3</th>\n",
       "      <td>867951000000</td>\n",
       "      <td>F</td>\n",
       "      <td>2016-04-29 17:29:31</td>\n",
       "      <td>2016-04-29T00:00:00Z</td>\n",
       "      <td>2016-04-29</td>\n",
       "      <td>2016-04-29</td>\n",
       "      <td>Same Day</td>\n",
       "      <td>8</td>\n",
       "      <td>PONTAL DE CAMBURI</td>\n",
       "      <td>0</td>\n",
       "      <td>0</td>\n",
       "      <td>0</td>\n",
       "      <td>0</td>\n",
       "      <td>0</td>\n",
       "      <td>0</td>\n",
       "      <td>No</td>\n",
       "      <td>Youth</td>\n",
       "    </tr>\n",
       "    <tr>\n",
       "      <th>4</th>\n",
       "      <td>8841190000000</td>\n",
       "      <td>F</td>\n",
       "      <td>2016-04-29 16:07:23</td>\n",
       "      <td>2016-04-29T00:00:00Z</td>\n",
       "      <td>2016-04-29</td>\n",
       "      <td>2016-04-29</td>\n",
       "      <td>Same Day</td>\n",
       "      <td>56</td>\n",
       "      <td>JARDIM DA PENHA</td>\n",
       "      <td>0</td>\n",
       "      <td>1</td>\n",
       "      <td>1</td>\n",
       "      <td>0</td>\n",
       "      <td>0</td>\n",
       "      <td>0</td>\n",
       "      <td>No</td>\n",
       "      <td>Middle_Aged</td>\n",
       "    </tr>\n",
       "  </tbody>\n",
       "</table>\n",
       "</div>"
      ],
      "text/plain": [
       "        patient_id gender       scheduled_day       appointment_day  \\\n",
       "0   29872500000000      F 2016-04-29 18:38:08  2016-04-29T00:00:00Z   \n",
       "1  558998000000000      M 2016-04-29 16:08:27  2016-04-29T00:00:00Z   \n",
       "2    4262960000000      F 2016-04-29 16:19:04  2016-04-29T00:00:00Z   \n",
       "3     867951000000      F 2016-04-29 17:29:31  2016-04-29T00:00:00Z   \n",
       "4    8841190000000      F 2016-04-29 16:07:23  2016-04-29T00:00:00Z   \n",
       "\n",
       "  scheduled_day_date appointment_day_date sameorbefore  age  \\\n",
       "0         2016-04-29           2016-04-29     Same Day   62   \n",
       "1         2016-04-29           2016-04-29     Same Day   56   \n",
       "2         2016-04-29           2016-04-29     Same Day   62   \n",
       "3         2016-04-29           2016-04-29     Same Day    8   \n",
       "4         2016-04-29           2016-04-29     Same Day   56   \n",
       "\n",
       "       neighbourhood  scholarship  hipertension  diabetes  alcoholism  \\\n",
       "0    JARDIM DA PENHA            0             1         0           0   \n",
       "1    JARDIM DA PENHA            0             0         0           0   \n",
       "2      MATA DA PRAIA            0             0         0           0   \n",
       "3  PONTAL DE CAMBURI            0             0         0           0   \n",
       "4    JARDIM DA PENHA            0             1         1           0   \n",
       "\n",
       "   handicap  sms_received no_show    age_group  \n",
       "0         0             0      No  Middle_Aged  \n",
       "1         0             0      No  Middle_Aged  \n",
       "2         0             0      No  Middle_Aged  \n",
       "3         0             0      No        Youth  \n",
       "4         0             0      No  Middle_Aged  "
      ]
     },
     "execution_count": 162,
     "metadata": {},
     "output_type": "execute_result"
    }
   ],
   "source": [
    "# Checking for successful creation of this column\n",
    "df.head()"
   ]
  },
  {
   "cell_type": "code",
   "execution_count": 163,
   "metadata": {},
   "outputs": [],
   "source": [
    "# Replacing 'Yes' with 1 and 'No' with 0 in the no_show column\n",
    "\n",
    "df['no_show'].replace(('Yes', 'No'), (1, 0), inplace=True)"
   ]
  },
  {
   "cell_type": "code",
   "execution_count": 164,
   "metadata": {},
   "outputs": [
    {
     "data": {
      "text/plain": [
       "array([0, 1])"
      ]
     },
     "execution_count": 164,
     "metadata": {},
     "output_type": "execute_result"
    }
   ],
   "source": [
    "# Check that the replacement has been done correctly\n",
    "df['no_show'].unique()"
   ]
  },
  {
   "cell_type": "code",
   "execution_count": 165,
   "metadata": {},
   "outputs": [],
   "source": [
    "from datetime import datetime\n",
    "\n",
    "#Converting appointment_day_date and scheduled_day_date to datetime datatype\n",
    "df['appointment_day_date1']=pd.to_datetime(df['appointment_day_date'], format = '%Y-%m-%d')\n",
    "df['scheduled_day_date1']=pd.to_datetime(df['scheduled_day_date'], format='%Y-%m-%d')\n",
    "\n",
    "#Dropping columns appointment_day_date and scheduled_day_date\n",
    "df.drop(['appointment_day_date', 'scheduled_day_date'], axis=1, inplace=True)\n",
    "\n",
    "#Renaming appointment_day_date1 and scheduled_day_date1\n",
    "df=df.rename(columns = {'appointment_day_date1':'appointment_day_date','scheduled_day_date1':'scheduled_day_date'})\n",
    "\n",
    "# Creating new column named lag for number of days between appointment_day_date and scheduled_day_date\n",
    "df['lag']=df['appointment_day_date']-df['scheduled_day_date']\n",
    "\n"
   ]
  },
  {
   "cell_type": "code",
   "execution_count": 166,
   "metadata": {},
   "outputs": [
    {
     "data": {
      "text/plain": [
       "count                     110521\n",
       "mean     10 days 04:25:27.412889\n",
       "std      15 days 06:07:25.262183\n",
       "min              0 days 00:00:00\n",
       "25%              0 days 00:00:00\n",
       "50%              4 days 00:00:00\n",
       "75%             15 days 00:00:00\n",
       "max            179 days 00:00:00\n",
       "Name: lag, dtype: object"
      ]
     },
     "execution_count": 166,
     "metadata": {},
     "output_type": "execute_result"
    }
   ],
   "source": [
    "df['lag'].describe()\n"
   ]
  },
  {
   "cell_type": "code",
   "execution_count": 167,
   "metadata": {},
   "outputs": [
    {
     "data": {
      "text/plain": [
       "0   0 days\n",
       "1   0 days\n",
       "2   0 days\n",
       "3   0 days\n",
       "4   0 days\n",
       "5   2 days\n",
       "6   2 days\n",
       "7   2 days\n",
       "8   0 days\n",
       "9   2 days\n",
       "Name: lag, dtype: timedelta64[ns]"
      ]
     },
     "execution_count": 167,
     "metadata": {},
     "output_type": "execute_result"
    }
   ],
   "source": [
    "df['lag'] = df['lag'].abs()\n",
    "df['lag'].head(10)"
   ]
  },
  {
   "cell_type": "code",
   "execution_count": 168,
   "metadata": {},
   "outputs": [],
   "source": [
    "# extracting integer portion from the timedelta datatype\n",
    "df['lag']=df['lag'].astype('timedelta64[D]')"
   ]
  },
  {
   "cell_type": "code",
   "execution_count": 169,
   "metadata": {},
   "outputs": [
    {
     "data": {
      "text/plain": [
       "dtype('float64')"
      ]
     },
     "execution_count": 169,
     "metadata": {},
     "output_type": "execute_result"
    }
   ],
   "source": [
    "# Checking datatype of lag variable\n",
    "df['lag'].dtype"
   ]
  },
  {
   "cell_type": "code",
   "execution_count": 170,
   "metadata": {},
   "outputs": [],
   "source": [
    "# Converting lag to int datatype\n",
    "df['lag'] = df['lag'].astype(int)"
   ]
  },
  {
   "cell_type": "code",
   "execution_count": 171,
   "metadata": {},
   "outputs": [
    {
     "data": {
      "image/png": "[encoded data removed]",
      "text/plain": [
       "<matplotlib.figure.Figure at 0x7f5f79545cc0>"
      ]
     },
     "metadata": {},
     "output_type": "display_data"
    }
   ],
   "source": [
    "df['lag'].hist();"
   ]
  },
  {
   "cell_type": "code",
   "execution_count": 172,
   "metadata": {},
   "outputs": [
    {
     "data": {
      "text/plain": [
       "count    110521.000000\n",
       "mean         10.184345\n",
       "std          15.255153\n",
       "min           0.000000\n",
       "25%           0.000000\n",
       "50%           4.000000\n",
       "75%          15.000000\n",
       "max         179.000000\n",
       "Name: lag, dtype: float64"
      ]
     },
     "execution_count": 172,
     "metadata": {},
     "output_type": "execute_result"
    }
   ],
   "source": [
    "df['lag'].describe()\n"
   ]
  },
  {
   "cell_type": "code",
   "execution_count": 173,
   "metadata": {},
   "outputs": [],
   "source": [
    "# Creating bins for lag variable\n",
    "\n",
    "bin_edges = [0,4,15,179]\n",
    "bin_names = ['low', 'medium', 'high']\n",
    "df['lag_group'] = pd.cut(df['lag'], bin_edges, labels=bin_names)\n"
   ]
  },
  {
   "cell_type": "code",
   "execution_count": 174,
   "metadata": {},
   "outputs": [
    {
     "data": {
      "text/plain": [
       "no_show  lag_group\n",
       "0        low          15375\n",
       "         medium       18400\n",
       "         high         17662\n",
       "1        low           4590\n",
       "         medium        7348\n",
       "         high          8584\n",
       "Name: patient_id, dtype: int64"
      ]
     },
     "execution_count": 174,
     "metadata": {},
     "output_type": "execute_result"
    }
   ],
   "source": [
    "# Checking the count of no_shows for each lag_group\n",
    "df.groupby(['no_show','lag_group'])['patient_id'].count()"
   ]
  },
  {
   "cell_type": "code",
   "execution_count": 175,
   "metadata": {},
   "outputs": [
    {
     "data": {
      "text/plain": [
       "0    4\n",
       "1    4\n",
       "2    4\n",
       "3    4\n",
       "4    4\n",
       "Name: appointment_weekday, dtype: int64"
      ]
     },
     "execution_count": 175,
     "metadata": {},
     "output_type": "execute_result"
    }
   ],
   "source": [
    "# Extracting day of week from appointment_day_date\n",
    "\n",
    "df['appointment_weekday'] = df['appointment_day_date'].apply(lambda day: day.dayofweek)\n",
    "df.appointment_weekday.head()"
   ]
  },
  {
   "cell_type": "code",
   "execution_count": 176,
   "metadata": {},
   "outputs": [
    {
     "data": {
      "text/plain": [
       "Index(['patient_id', 'gender', 'scheduled_day', 'appointment_day',\n",
       "       'sameorbefore', 'age', 'neighbourhood', 'scholarship', 'hipertension',\n",
       "       'diabetes', 'alcoholism', 'handicap', 'sms_received', 'no_show',\n",
       "       'age_group', 'appointment_day_date', 'scheduled_day_date', 'lag',\n",
       "       'lag_group', 'appointment_weekday'],\n",
       "      dtype='object')"
      ]
     },
     "execution_count": 176,
     "metadata": {},
     "output_type": "execute_result"
    }
   ],
   "source": [
    "# Checking what are the final columns in the dataset\n",
    "df.columns"
   ]
  },
  {
   "cell_type": "code",
   "execution_count": 177,
   "metadata": {},
   "outputs": [
    {
     "data": {
      "image/png": "[encoded data removed]",
      "text/plain": [
       "<matplotlib.figure.Figure at 0x7f5f79505c88>"
      ]
     },
     "metadata": {},
     "output_type": "display_data"
    }
   ],
   "source": [
    "# Checking the correlation between all the numerical variables in the dataset\n",
    "\n",
    "plt.figure(figsize=(12,3))\n",
    "sns.heatmap(data=df.corr(),cmap='coolwarm', annot=True);"
   ]
  },
  {
   "cell_type": "markdown",
   "metadata": {},
   "source": [
    "##### There is some correlation between lag and no_show\n",
    "##### There is also some correlation between lag and sms_received\n",
    "###### There is strong correlation between age and hipertension and diabetes\n",
    "##### There is also strong correlation between diabetes and hipertension"
   ]
  },
  {
   "cell_type": "code",
   "execution_count": 178,
   "metadata": {},
   "outputs": [
    {
     "data": {
      "text/html": [
       "<div>\n",
       "<style scoped>\n",
       "    .dataframe tbody tr th:only-of-type {\n",
       "        vertical-align: middle;\n",
       "    }\n",
       "\n",
       "    .dataframe tbody tr th {\n",
       "        vertical-align: top;\n",
       "    }\n",
       "\n",
       "    .dataframe thead th {\n",
       "        text-align: right;\n",
       "    }\n",
       "</style>\n",
       "<table border=\"1\" class=\"dataframe\">\n",
       "  <thead>\n",
       "    <tr style=\"text-align: right;\">\n",
       "      <th></th>\n",
       "      <th>patient_id</th>\n",
       "      <th>gender</th>\n",
       "      <th>scheduled_day</th>\n",
       "      <th>appointment_day</th>\n",
       "      <th>sameorbefore</th>\n",
       "      <th>age</th>\n",
       "      <th>neighbourhood</th>\n",
       "      <th>scholarship</th>\n",
       "      <th>hipertension</th>\n",
       "      <th>diabetes</th>\n",
       "      <th>alcoholism</th>\n",
       "      <th>handicap</th>\n",
       "      <th>sms_received</th>\n",
       "      <th>no_show</th>\n",
       "      <th>age_group</th>\n",
       "      <th>appointment_day_date</th>\n",
       "      <th>scheduled_day_date</th>\n",
       "      <th>lag</th>\n",
       "      <th>lag_group</th>\n",
       "      <th>appointment_weekday</th>\n",
       "    </tr>\n",
       "  </thead>\n",
       "  <tbody>\n",
       "    <tr>\n",
       "      <th>0</th>\n",
       "      <td>29872500000000</td>\n",
       "      <td>F</td>\n",
       "      <td>2016-04-29 18:38:08</td>\n",
       "      <td>2016-04-29T00:00:00Z</td>\n",
       "      <td>Same Day</td>\n",
       "      <td>62</td>\n",
       "      <td>JARDIM DA PENHA</td>\n",
       "      <td>0</td>\n",
       "      <td>1</td>\n",
       "      <td>0</td>\n",
       "      <td>0</td>\n",
       "      <td>0</td>\n",
       "      <td>0</td>\n",
       "      <td>0</td>\n",
       "      <td>Middle_Aged</td>\n",
       "      <td>2016-04-29</td>\n",
       "      <td>2016-04-29</td>\n",
       "      <td>0</td>\n",
       "      <td>NaN</td>\n",
       "      <td>4</td>\n",
       "    </tr>\n",
       "    <tr>\n",
       "      <th>1</th>\n",
       "      <td>558998000000000</td>\n",
       "      <td>M</td>\n",
       "      <td>2016-04-29 16:08:27</td>\n",
       "      <td>2016-04-29T00:00:00Z</td>\n",
       "      <td>Same Day</td>\n",
       "      <td>56</td>\n",
       "      <td>JARDIM DA PENHA</td>\n",
       "      <td>0</td>\n",
       "      <td>0</td>\n",
       "      <td>0</td>\n",
       "      <td>0</td>\n",
       "      <td>0</td>\n",
       "      <td>0</td>\n",
       "      <td>0</td>\n",
       "      <td>Middle_Aged</td>\n",
       "      <td>2016-04-29</td>\n",
       "      <td>2016-04-29</td>\n",
       "      <td>0</td>\n",
       "      <td>NaN</td>\n",
       "      <td>4</td>\n",
       "    </tr>\n",
       "    <tr>\n",
       "      <th>2</th>\n",
       "      <td>4262960000000</td>\n",
       "      <td>F</td>\n",
       "      <td>2016-04-29 16:19:04</td>\n",
       "      <td>2016-04-29T00:00:00Z</td>\n",
       "      <td>Same Day</td>\n",
       "      <td>62</td>\n",
       "      <td>MATA DA PRAIA</td>\n",
       "      <td>0</td>\n",
       "      <td>0</td>\n",
       "      <td>0</td>\n",
       "      <td>0</td>\n",
       "      <td>0</td>\n",
       "      <td>0</td>\n",
       "      <td>0</td>\n",
       "      <td>Middle_Aged</td>\n",
       "      <td>2016-04-29</td>\n",
       "      <td>2016-04-29</td>\n",
       "      <td>0</td>\n",
       "      <td>NaN</td>\n",
       "      <td>4</td>\n",
       "    </tr>\n",
       "    <tr>\n",
       "      <th>3</th>\n",
       "      <td>867951000000</td>\n",
       "      <td>F</td>\n",
       "      <td>2016-04-29 17:29:31</td>\n",
       "      <td>2016-04-29T00:00:00Z</td>\n",
       "      <td>Same Day</td>\n",
       "      <td>8</td>\n",
       "      <td>PONTAL DE CAMBURI</td>\n",
       "      <td>0</td>\n",
       "      <td>0</td>\n",
       "      <td>0</td>\n",
       "      <td>0</td>\n",
       "      <td>0</td>\n",
       "      <td>0</td>\n",
       "      <td>0</td>\n",
       "      <td>Youth</td>\n",
       "      <td>2016-04-29</td>\n",
       "      <td>2016-04-29</td>\n",
       "      <td>0</td>\n",
       "      <td>NaN</td>\n",
       "      <td>4</td>\n",
       "    </tr>\n",
       "    <tr>\n",
       "      <th>4</th>\n",
       "      <td>8841190000000</td>\n",
       "      <td>F</td>\n",
       "      <td>2016-04-29 16:07:23</td>\n",
       "      <td>2016-04-29T00:00:00Z</td>\n",
       "      <td>Same Day</td>\n",
       "      <td>56</td>\n",
       "      <td>JARDIM DA PENHA</td>\n",
       "      <td>0</td>\n",
       "      <td>1</td>\n",
       "      <td>1</td>\n",
       "      <td>0</td>\n",
       "      <td>0</td>\n",
       "      <td>0</td>\n",
       "      <td>0</td>\n",
       "      <td>Middle_Aged</td>\n",
       "      <td>2016-04-29</td>\n",
       "      <td>2016-04-29</td>\n",
       "      <td>0</td>\n",
       "      <td>NaN</td>\n",
       "      <td>4</td>\n",
       "    </tr>\n",
       "  </tbody>\n",
       "</table>\n",
       "</div>"
      ],
      "text/plain": [
       "        patient_id gender       scheduled_day       appointment_day  \\\n",
       "0   29872500000000      F 2016-04-29 18:38:08  2016-04-29T00:00:00Z   \n",
       "1  558998000000000      M 2016-04-29 16:08:27  2016-04-29T00:00:00Z   \n",
       "2    4262960000000      F 2016-04-29 16:19:04  2016-04-29T00:00:00Z   \n",
       "3     867951000000      F 2016-04-29 17:29:31  2016-04-29T00:00:00Z   \n",
       "4    8841190000000      F 2016-04-29 16:07:23  2016-04-29T00:00:00Z   \n",
       "\n",
       "  sameorbefore  age      neighbourhood  scholarship  hipertension  diabetes  \\\n",
       "0     Same Day   62    JARDIM DA PENHA            0             1         0   \n",
       "1     Same Day   56    JARDIM DA PENHA            0             0         0   \n",
       "2     Same Day   62      MATA DA PRAIA            0             0         0   \n",
       "3     Same Day    8  PONTAL DE CAMBURI            0             0         0   \n",
       "4     Same Day   56    JARDIM DA PENHA            0             1         1   \n",
       "\n",
       "   alcoholism  handicap  sms_received  no_show    age_group  \\\n",
       "0           0         0             0        0  Middle_Aged   \n",
       "1           0         0             0        0  Middle_Aged   \n",
       "2           0         0             0        0  Middle_Aged   \n",
       "3           0         0             0        0        Youth   \n",
       "4           0         0             0        0  Middle_Aged   \n",
       "\n",
       "  appointment_day_date scheduled_day_date  lag lag_group  appointment_weekday  \n",
       "0           2016-04-29         2016-04-29    0       NaN                    4  \n",
       "1           2016-04-29         2016-04-29    0       NaN                    4  \n",
       "2           2016-04-29         2016-04-29    0       NaN                    4  \n",
       "3           2016-04-29         2016-04-29    0       NaN                    4  \n",
       "4           2016-04-29         2016-04-29    0       NaN                    4  "
      ]
     },
     "execution_count": 178,
     "metadata": {},
     "output_type": "execute_result"
    }
   ],
   "source": [
    "# Performing final check on the dataset\n",
    "df.head()"
   ]
  },
  {
   "cell_type": "markdown",
   "metadata": {},
   "source": [
    "<a id='eda'></a>\n",
    "## Exploratory Data Analysis\n",
    "\n",
    "\n",
    "### Research Question 1: Is the proportion of No Shows significantly less for appointments booked on the same day?"
   ]
  },
  {
   "cell_type": "code",
   "execution_count": 179,
   "metadata": {},
   "outputs": [
    {
     "data": {
      "text/plain": [
       "no_show  sameorbefore \n",
       "0        booked before    51437\n",
       "         Same Day         36770\n",
       "1        booked before    20522\n",
       "         Same Day          1792\n",
       "Name: sameorbefore, dtype: int64"
      ]
     },
     "execution_count": 179,
     "metadata": {},
     "output_type": "execute_result"
    }
   ],
   "source": [
    "df.groupby('no_show')['sameorbefore'].value_counts()"
   ]
  },
  {
   "cell_type": "code",
   "execution_count": 180,
   "metadata": {},
   "outputs": [
    {
     "name": "stdout",
     "output_type": "stream",
     "text": [
      "0.08\n"
     ]
    }
   ],
   "source": [
    "# Percentage of now shows for appointments booked on the same day\n",
    "\n",
    "print(round(1792/(1792+20522),2))"
   ]
  },
  {
   "cell_type": "code",
   "execution_count": 181,
   "metadata": {},
   "outputs": [
    {
     "data": {
      "image/png": "[encoded data removed]",
      "text/plain": [
       "<matplotlib.figure.Figure at 0x7f5f8d3e6a20>"
      ]
     },
     "metadata": {},
     "output_type": "display_data"
    }
   ],
   "source": [
    "figsize = (12,10)\n",
    "sns.countplot('sameorbefore', data=df, hue = 'no_show', palette='rainbow')\n",
    "plt.title('Count of no shows')\n",
    "plt.xlabel('Appointments booked on same day or before', fontsize = 12)\n",
    "plt.ylabel('Count',fontsize = 12);"
   ]
  },
  {
   "cell_type": "markdown",
   "metadata": {},
   "source": [
    "##### Out of 22314 no shows, 8% appointments were scheduled on the same day and 92% appointments were scheduled before the appointment date. So there are chances that patients might forget and therefore not show up for the appointment"
   ]
  },
  {
   "cell_type": "markdown",
   "metadata": {},
   "source": [
    "### Research Question 2 : Does the rate of no show vary according to age group?"
   ]
  },
  {
   "cell_type": "code",
   "execution_count": 182,
   "metadata": {},
   "outputs": [
    {
     "data": {
      "image/png": "[encoded data removed]",
      "text/plain": [
       "<matplotlib.figure.Figure at 0x7f5f8c7810f0>"
      ]
     },
     "metadata": {},
     "output_type": "display_data"
    }
   ],
   "source": [
    "sns.countplot(df['age_group'], hue=df['no_show'])\n",
    "plt.title('No show among different age groups')\n",
    "plt.xlabel('Age Group', fontsize =12)\n",
    "plt.ylabel('Count of No Show', fontsize=12);"
   ]
  },
  {
   "cell_type": "code",
   "execution_count": 183,
   "metadata": {},
   "outputs": [
    {
     "data": {
      "text/plain": [
       "age_group\n",
       "Youth          28307\n",
       "Adult          28833\n",
       "Middle_Aged    36542\n",
       "Senior         13300\n",
       "Name: patient_id, dtype: int64"
      ]
     },
     "execution_count": 183,
     "metadata": {},
     "output_type": "execute_result"
    }
   ],
   "source": [
    "count_age_group=df.groupby('age_group')['patient_id'].count()\n",
    "count_age_group"
   ]
  },
  {
   "cell_type": "code",
   "execution_count": 184,
   "metadata": {},
   "outputs": [
    {
     "data": {
      "text/plain": [
       "age_group    no_show\n",
       "Youth        0          21852\n",
       "             1           6455\n",
       "Adult        0          22209\n",
       "             1           6624\n",
       "Middle_Aged  0          30011\n",
       "             1           6531\n",
       "Senior       0          11235\n",
       "             1           2065\n",
       "Name: patient_id, dtype: int64"
      ]
     },
     "execution_count": 184,
     "metadata": {},
     "output_type": "execute_result"
    }
   ],
   "source": [
    "df.groupby(['age_group','no_show'])['patient_id'].count()"
   ]
  },
  {
   "cell_type": "code",
   "execution_count": 185,
   "metadata": {},
   "outputs": [
    {
     "name": "stdout",
     "output_type": "stream",
     "text": [
      "0.23\n",
      "0.23\n",
      "0.18\n",
      "0.16\n"
     ]
    }
   ],
   "source": [
    "Youth_no_show_rate = round(6455/28307,2)\n",
    "Adult_no_show_rate = round(6624/28833,2)\n",
    "Middle_Aged_no_show_rate = round(6531/36542,2)\n",
    "Senior_no_show_rate = round(2065/13300,2)\n",
    "\n",
    "print(Youth_no_show_rate)\n",
    "print(Adult_no_show_rate)\n",
    "print(Middle_Aged_no_show_rate)\n",
    "print(Senior_no_show_rate)"
   ]
  },
  {
   "cell_type": "code",
   "execution_count": 186,
   "metadata": {},
   "outputs": [
    {
     "data": {
      "image/png": "[encoded data removed]",
      "text/plain": [
       "<matplotlib.figure.Figure at 0x7f5f8577b128>"
      ]
     },
     "metadata": {},
     "output_type": "display_data"
    }
   ],
   "source": [
    "y=[Youth_no_show_rate,Adult_no_show_rate,Middle_Aged_no_show_rate,Senior_no_show_rate]\n",
    "\n",
    "x=['Youth','Adult','Middle-aged','Senior']\n",
    "\n",
    "sns.pointplot(x=x, y=y, color='r')\n",
    "plt.xlabel('Age Groups', fontsize=12)\n",
    "plt.ylabel('No_show rate', fontsize =12);"
   ]
  },
  {
   "cell_type": "markdown",
   "metadata": {},
   "source": [
    "##### As age increases the rate of no show decreases"
   ]
  },
  {
   "cell_type": "markdown",
   "metadata": {},
   "source": [
    "### Research Question 3:  What are the top 5 neighbourhoods that have highest number of no shows"
   ]
  },
  {
   "cell_type": "code",
   "execution_count": 187,
   "metadata": {},
   "outputs": [
    {
     "data": {
      "text/plain": [
       "JARDIM CAMBURI     7717\n",
       "MARIA ORTIZ        5805\n",
       "RESISTÊNCIA        4430\n",
       "JARDIM DA PENHA    3877\n",
       "ITARARÉ            3514\n",
       "Name: neighbourhood, dtype: int64"
      ]
     },
     "execution_count": 187,
     "metadata": {},
     "output_type": "execute_result"
    }
   ],
   "source": [
    "df['neighbourhood'].value_counts().head()"
   ]
  },
  {
   "cell_type": "code",
   "execution_count": 188,
   "metadata": {},
   "outputs": [
    {
     "data": {
      "text/html": [
       "<div>\n",
       "<style scoped>\n",
       "    .dataframe tbody tr th:only-of-type {\n",
       "        vertical-align: middle;\n",
       "    }\n",
       "\n",
       "    .dataframe tbody tr th {\n",
       "        vertical-align: top;\n",
       "    }\n",
       "\n",
       "    .dataframe thead th {\n",
       "        text-align: right;\n",
       "    }\n",
       "</style>\n",
       "<table border=\"1\" class=\"dataframe\">\n",
       "  <thead>\n",
       "    <tr style=\"text-align: right;\">\n",
       "      <th></th>\n",
       "      <th>no_show</th>\n",
       "    </tr>\n",
       "    <tr>\n",
       "      <th>neighbourhood</th>\n",
       "      <th></th>\n",
       "    </tr>\n",
       "  </thead>\n",
       "  <tbody>\n",
       "    <tr>\n",
       "      <th>JARDIM CAMBURI</th>\n",
       "      <td>7717</td>\n",
       "    </tr>\n",
       "    <tr>\n",
       "      <th>MARIA ORTIZ</th>\n",
       "      <td>5805</td>\n",
       "    </tr>\n",
       "    <tr>\n",
       "      <th>RESISTÊNCIA</th>\n",
       "      <td>4430</td>\n",
       "    </tr>\n",
       "    <tr>\n",
       "      <th>JARDIM DA PENHA</th>\n",
       "      <td>3877</td>\n",
       "    </tr>\n",
       "    <tr>\n",
       "      <th>ITARARÉ</th>\n",
       "      <td>3514</td>\n",
       "    </tr>\n",
       "  </tbody>\n",
       "</table>\n",
       "</div>"
      ],
      "text/plain": [
       "                 no_show\n",
       "neighbourhood           \n",
       "JARDIM CAMBURI      7717\n",
       "MARIA ORTIZ         5805\n",
       "RESISTÊNCIA         4430\n",
       "JARDIM DA PENHA     3877\n",
       "ITARARÉ             3514"
      ]
     },
     "execution_count": 188,
     "metadata": {},
     "output_type": "execute_result"
    }
   ],
   "source": [
    "k = pd.DataFrame(df.groupby('neighbourhood')['no_show'].count().sort_values(ascending = False).head())\n",
    "k"
   ]
  },
  {
   "cell_type": "code",
   "execution_count": 189,
   "metadata": {},
   "outputs": [
    {
     "data": {
      "image/png": "[encoded data removed]",
      "text/plain": [
       "<matplotlib.figure.Figure at 0x7f5f85706c18>"
      ]
     },
     "metadata": {},
     "output_type": "display_data"
    }
   ],
   "source": [
    "plt.figure(figsize=(12,3))\n",
    "plt.bar([\"JARDIM CAMBURI\", \"MARIA ORTIZ\", \"RESISTÊNCIA\", \"JARDIM DA PENHA\", \"ITARARÉ\"], k['no_show'], color='pink')\n",
    "plt.title(\"5 Neighbourhoods that have highest number of no shows \", fontsize =12)\n",
    "plt.xlabel(\"Neighbourhood\", fontsize =12)\n",
    "plt.ylabel(\"Number of No Shows\", fontsize=12);"
   ]
  },
  {
   "cell_type": "markdown",
   "metadata": {},
   "source": [
    "### Research Question 4: Does the no_show rate vary for the day of the week"
   ]
  },
  {
   "cell_type": "code",
   "execution_count": 190,
   "metadata": {},
   "outputs": [
    {
     "data": {
      "text/plain": [
       "no_show  appointment_weekday\n",
       "0        0                      18024\n",
       "         1                      20488\n",
       "         2                      20774\n",
       "         3                      13909\n",
       "         4                      14982\n",
       "         5                         30\n",
       "1        0                       4689\n",
       "         1                       5150\n",
       "         2                       5092\n",
       "         3                       3337\n",
       "         4                       4037\n",
       "         5                          9\n",
       "Name: patient_id, dtype: int64"
      ]
     },
     "execution_count": 190,
     "metadata": {},
     "output_type": "execute_result"
    }
   ],
   "source": [
    "df.groupby(['no_show', 'appointment_weekday'])['patient_id'].count()"
   ]
  },
  {
   "cell_type": "code",
   "execution_count": 191,
   "metadata": {},
   "outputs": [
    {
     "data": {
      "text/plain": [
       "0.21013713363807476"
      ]
     },
     "execution_count": 191,
     "metadata": {},
     "output_type": "execute_result"
    }
   ],
   "source": [
    "# Checking the no_show rate for different weekdays\n",
    "\n",
    "# weekday =0 \n",
    "(df[(df['no_show']==1) & (df['appointment_weekday']==0)]['patient_id'].count())/df[df['no_show']==1]['patient_id'].count()\n",
    "\n",
    "# Rounded value 0.210137\n"
   ]
  },
  {
   "cell_type": "code",
   "execution_count": 192,
   "metadata": {},
   "outputs": [
    {
     "data": {
      "text/plain": [
       "0.23079680917809448"
      ]
     },
     "execution_count": 192,
     "metadata": {},
     "output_type": "execute_result"
    }
   ],
   "source": [
    "# weekday =1 \n",
    "(df[(df['no_show']==1) & (df['appointment_weekday']==1)]['patient_id'].count())/df[df['no_show']==1]['patient_id'].count()\n",
    "# Rounded value 0.230797"
   ]
  },
  {
   "cell_type": "code",
   "execution_count": 193,
   "metadata": {},
   "outputs": [
    {
     "data": {
      "text/plain": [
       "0.22819754414269069"
      ]
     },
     "execution_count": 193,
     "metadata": {},
     "output_type": "execute_result"
    }
   ],
   "source": [
    "# weekday =2\n",
    "(df[(df['no_show']==1) & (df['appointment_weekday']==2)]['patient_id'].count())/df[df['no_show']==1]['patient_id'].count()\n",
    "# Rounded value 0.228198"
   ]
  },
  {
   "cell_type": "code",
   "execution_count": 194,
   "metadata": {},
   "outputs": [
    {
     "data": {
      "text/plain": [
       "0.14954736936452451"
      ]
     },
     "execution_count": 194,
     "metadata": {},
     "output_type": "execute_result"
    }
   ],
   "source": [
    "# weekday =3\n",
    "(df[(df['no_show']==1) & (df['appointment_weekday']==3)]['patient_id'].count())/df[df['no_show']==1]['patient_id'].count()\n",
    "\n",
    "# Rounded value 0.149547"
   ]
  },
  {
   "cell_type": "code",
   "execution_count": 195,
   "metadata": {},
   "outputs": [
    {
     "data": {
      "text/plain": [
       "0.18091780944698396"
      ]
     },
     "execution_count": 195,
     "metadata": {},
     "output_type": "execute_result"
    }
   ],
   "source": [
    "# weekday =4\n",
    "(df[(df['no_show']==1) & (df['appointment_weekday']==4)]['patient_id'].count())/df[df['no_show']==1]['patient_id'].count()\n",
    "\n",
    "# Rounded value 0.180918"
   ]
  },
  {
   "cell_type": "code",
   "execution_count": 196,
   "metadata": {},
   "outputs": [
    {
     "data": {
      "text/plain": [
       "0.00040333422963162143"
      ]
     },
     "execution_count": 196,
     "metadata": {},
     "output_type": "execute_result"
    }
   ],
   "source": [
    "# weekday =5\n",
    "(df[(df['no_show']==1) & (df['appointment_weekday']==5)]['patient_id'].count())/df[df['no_show']==1]['patient_id'].count()\n",
    "\n",
    "#Rounded value  0.000403"
   ]
  },
  {
   "cell_type": "code",
   "execution_count": 197,
   "metadata": {},
   "outputs": [
    {
     "data": {
      "image/png": "[encoded data removed]",
      "text/plain": [
       "<matplotlib.figure.Figure at 0x7f5f796752b0>"
      ]
     },
     "metadata": {},
     "output_type": "display_data"
    }
   ],
   "source": [
    "pd.crosstab(df['appointment_weekday'],df['no_show']).plot(kind='bar')\n",
    "plt.title('No_show Frequency for Day of Week', fontsize =12)\n",
    "plt.xlabel('Day of Week', fontsize=12)\n",
    "plt.ylabel('Frequency of No_show', fontsize =12);\n"
   ]
  },
  {
   "cell_type": "markdown",
   "metadata": {},
   "source": [
    "##### The rate of no_show differs for different day of week. \n",
    "\n",
    "- 0.21 for Monday (weekday =0), \n",
    "- 0.23 for Tuesday (weekday =1), \n",
    "- 0.23 for Wednesday (weekday =2),\n",
    "- 0.15 for Thursday (weekday=3),\n",
    "- 0.18 for Friday (weekday = 4) and\n",
    "- 0.00 for Saturday (weekday=5)"
   ]
  },
  {
   "cell_type": "code",
   "execution_count": 198,
   "metadata": {},
   "outputs": [
    {
     "data": {
      "image/png": "[encoded data removed]",
      "text/plain": [
       "<matplotlib.figure.Figure at 0x7f5f796690b8>"
      ]
     },
     "metadata": {},
     "output_type": "display_data"
    }
   ],
   "source": [
    "\n",
    "x=['Monday', 'Tuesday', 'Wednesday','Thursday','Friday','Saturday']\n",
    "y=[0.21,0.23,0.23,0.15,0.18,0]\n",
    "sns.pointplot(x=x, y=y, color='g')\n",
    "plt.xlabel('Days of Week', fontsize =12)\n",
    "plt.ylabel('No_show rate', fontsize =12)\n",
    "plt.title('No_show rate for different days of week', fontsize =12);"
   ]
  },
  {
   "cell_type": "markdown",
   "metadata": {},
   "source": [
    "##### The no_show rate differs across the days of the week. It is lower on Thursday, Friday and Saturday"
   ]
  },
  {
   "cell_type": "markdown",
   "metadata": {},
   "source": [
    "### Research Question 5: Does the no_show rate increase as lag increases"
   ]
  },
  {
   "cell_type": "code",
   "execution_count": 199,
   "metadata": {},
   "outputs": [
    {
     "data": {
      "image/png": "[encoded data removed]",
      "text/plain": [
       "<matplotlib.figure.Figure at 0x7f5f7d010828>"
      ]
     },
     "metadata": {},
     "output_type": "display_data"
    }
   ],
   "source": [
    "colors=['b','r']\n",
    "pd.crosstab(df['lag_group'],df['no_show']).plot(kind='bar', color=colors)\n",
    "plt.title('No_show Frequency for different lag_groups', fontsize =12)\n",
    "plt.xlabel('lag_group', fontsize=12)\n",
    "plt.ylabel('Frequency of No_show', fontsize =12);"
   ]
  },
  {
   "cell_type": "markdown",
   "metadata": {},
   "source": [
    "##### As the lag (no of days between scheduled_day and appointment_day) increases, the rate of no_show also increases"
   ]
  },
  {
   "cell_type": "markdown",
   "metadata": {},
   "source": [
    "### Research Question 6: Understand what factors are important predictors of no show"
   ]
  },
  {
   "cell_type": "markdown",
   "metadata": {},
   "source": [
    "### Logistic Regression"
   ]
  },
  {
   "cell_type": "code",
   "execution_count": 200,
   "metadata": {},
   "outputs": [],
   "source": [
    "df1 = df.copy()"
   ]
  },
  {
   "cell_type": "code",
   "execution_count": 201,
   "metadata": {},
   "outputs": [
    {
     "name": "stdout",
     "output_type": "stream",
     "text": [
      "<class 'pandas.core.frame.DataFrame'>\n",
      "Int64Index: 110521 entries, 0 to 110526\n",
      "Data columns (total 20 columns):\n",
      "patient_id              110521 non-null object\n",
      "gender                  110521 non-null object\n",
      "scheduled_day           110521 non-null datetime64[ns]\n",
      "appointment_day         110521 non-null object\n",
      "sameorbefore            110521 non-null object\n",
      "age                     110521 non-null int64\n",
      "neighbourhood           110521 non-null object\n",
      "scholarship             110521 non-null int64\n",
      "hipertension            110521 non-null int64\n",
      "diabetes                110521 non-null int64\n",
      "alcoholism              110521 non-null int64\n",
      "handicap                110521 non-null int64\n",
      "sms_received            110521 non-null int64\n",
      "no_show                 110521 non-null int64\n",
      "age_group               106982 non-null category\n",
      "appointment_day_date    110521 non-null datetime64[ns]\n",
      "scheduled_day_date      110521 non-null datetime64[ns]\n",
      "lag                     110521 non-null int64\n",
      "lag_group               71959 non-null category\n",
      "appointment_weekday     110521 non-null int64\n",
      "dtypes: category(2), datetime64[ns](3), int64(10), object(5)\n",
      "memory usage: 16.2+ MB\n"
     ]
    }
   ],
   "source": [
    "df1.info()"
   ]
  },
  {
   "cell_type": "markdown",
   "metadata": {},
   "source": [
    "Steps:\n",
    "    1. Convert categorical variables to dummy variables\n",
    "    2. Drop variables that cannot be used in the model\n",
    "    3. Drop the variables for which dummy variables are created\n",
    "    4. Concat the new dummy variables with the old dataset\n",
    "    5. Import the required libraries\n",
    "    6. Build the model\n",
    "    7. Evaluate the performance of the model using Confusion Matrix, Classification Table, ROC \n",
    "    8. Run iterations as required\n",
    "    9. Draw conclusions from finalized iteration"
   ]
  },
  {
   "cell_type": "code",
   "execution_count": 202,
   "metadata": {},
   "outputs": [],
   "source": [
    "# Convert categorical variables to dummy variables\n",
    "sex = pd.get_dummies(df1['gender'],drop_first=True)\n",
    "sameOrBefore = pd.get_dummies(df1['sameorbefore'],drop_first=True)\n",
    "agegroup = pd.get_dummies(df1['age_group'],drop_first=True)\n",
    "laggroup = pd.get_dummies(df1['lag_group'], drop_first=True)\n",
    "appointment_week_day = pd.get_dummies(df1['appointment_weekday'], drop_first=True)"
   ]
  },
  {
   "cell_type": "code",
   "execution_count": 203,
   "metadata": {},
   "outputs": [],
   "source": [
    "# Drop the variables for which dummy variables are created\n",
    "df1.drop(['gender','sameorbefore','age_group','lag_group','appointment_weekday'],axis=1,inplace=True)"
   ]
  },
  {
   "cell_type": "code",
   "execution_count": 204,
   "metadata": {},
   "outputs": [
    {
     "name": "stdout",
     "output_type": "stream",
     "text": [
      "<class 'pandas.core.frame.DataFrame'>\n",
      "Int64Index: 110521 entries, 0 to 110526\n",
      "Data columns (total 15 columns):\n",
      "patient_id              110521 non-null object\n",
      "scheduled_day           110521 non-null datetime64[ns]\n",
      "appointment_day         110521 non-null object\n",
      "age                     110521 non-null int64\n",
      "neighbourhood           110521 non-null object\n",
      "scholarship             110521 non-null int64\n",
      "hipertension            110521 non-null int64\n",
      "diabetes                110521 non-null int64\n",
      "alcoholism              110521 non-null int64\n",
      "handicap                110521 non-null int64\n",
      "sms_received            110521 non-null int64\n",
      "no_show                 110521 non-null int64\n",
      "appointment_day_date    110521 non-null datetime64[ns]\n",
      "scheduled_day_date      110521 non-null datetime64[ns]\n",
      "lag                     110521 non-null int64\n",
      "dtypes: datetime64[ns](3), int64(9), object(3)\n",
      "memory usage: 13.5+ MB\n"
     ]
    }
   ],
   "source": [
    "df1.info()"
   ]
  },
  {
   "cell_type": "code",
   "execution_count": 205,
   "metadata": {},
   "outputs": [],
   "source": [
    "# Drop variables that cannot be used in the model\n",
    "df1.drop(['patient_id', 'scheduled_day','appointment_day','age','neighbourhood','appointment_day_date','scheduled_day_date','lag'], axis=1, inplace=True)"
   ]
  },
  {
   "cell_type": "code",
   "execution_count": 206,
   "metadata": {},
   "outputs": [
    {
     "name": "stdout",
     "output_type": "stream",
     "text": [
      "<class 'pandas.core.frame.DataFrame'>\n",
      "Int64Index: 110521 entries, 0 to 110526\n",
      "Data columns (total 7 columns):\n",
      "scholarship     110521 non-null int64\n",
      "hipertension    110521 non-null int64\n",
      "diabetes        110521 non-null int64\n",
      "alcoholism      110521 non-null int64\n",
      "handicap        110521 non-null int64\n",
      "sms_received    110521 non-null int64\n",
      "no_show         110521 non-null int64\n",
      "dtypes: int64(7)\n",
      "memory usage: 6.7 MB\n"
     ]
    }
   ],
   "source": [
    "df1.info()"
   ]
  },
  {
   "cell_type": "code",
   "execution_count": 207,
   "metadata": {},
   "outputs": [],
   "source": [
    "#  Concat the new dummy variables with the old dataset\n",
    "df1 = pd.concat([df1,sex,sameOrBefore,agegroup, laggroup,appointment_week_day],axis=1)"
   ]
  },
  {
   "cell_type": "code",
   "execution_count": 208,
   "metadata": {},
   "outputs": [
    {
     "name": "stdout",
     "output_type": "stream",
     "text": [
      "<class 'pandas.core.frame.DataFrame'>\n",
      "Int64Index: 110521 entries, 0 to 110526\n",
      "Data columns (total 19 columns):\n",
      "scholarship      110521 non-null int64\n",
      "hipertension     110521 non-null int64\n",
      "diabetes         110521 non-null int64\n",
      "alcoholism       110521 non-null int64\n",
      "handicap         110521 non-null int64\n",
      "sms_received     110521 non-null int64\n",
      "no_show          110521 non-null int64\n",
      "M                110521 non-null uint8\n",
      "booked before    110521 non-null uint8\n",
      "Adult            110521 non-null uint8\n",
      "Middle_Aged      110521 non-null uint8\n",
      "Senior           110521 non-null uint8\n",
      "medium           110521 non-null uint8\n",
      "high             110521 non-null uint8\n",
      "1                110521 non-null uint8\n",
      "2                110521 non-null uint8\n",
      "3                110521 non-null uint8\n",
      "4                110521 non-null uint8\n",
      "5                110521 non-null uint8\n",
      "dtypes: int64(7), uint8(12)\n",
      "memory usage: 8.0 MB\n"
     ]
    }
   ],
   "source": [
    "df1.info()"
   ]
  },
  {
   "cell_type": "code",
   "execution_count": 209,
   "metadata": {},
   "outputs": [
    {
     "data": {
      "text/html": [
       "<div>\n",
       "<style scoped>\n",
       "    .dataframe tbody tr th:only-of-type {\n",
       "        vertical-align: middle;\n",
       "    }\n",
       "\n",
       "    .dataframe tbody tr th {\n",
       "        vertical-align: top;\n",
       "    }\n",
       "\n",
       "    .dataframe thead th {\n",
       "        text-align: right;\n",
       "    }\n",
       "</style>\n",
       "<table border=\"1\" class=\"dataframe\">\n",
       "  <thead>\n",
       "    <tr style=\"text-align: right;\">\n",
       "      <th></th>\n",
       "      <th>scholarship</th>\n",
       "      <th>hipertension</th>\n",
       "      <th>diabetes</th>\n",
       "      <th>alcoholism</th>\n",
       "      <th>handicap</th>\n",
       "      <th>sms_received</th>\n",
       "      <th>no_show</th>\n",
       "      <th>M</th>\n",
       "      <th>booked before</th>\n",
       "      <th>Adult</th>\n",
       "      <th>Middle_Aged</th>\n",
       "      <th>Senior</th>\n",
       "      <th>medium</th>\n",
       "      <th>high</th>\n",
       "      <th>1</th>\n",
       "      <th>2</th>\n",
       "      <th>3</th>\n",
       "      <th>4</th>\n",
       "      <th>5</th>\n",
       "    </tr>\n",
       "  </thead>\n",
       "  <tbody>\n",
       "    <tr>\n",
       "      <th>0</th>\n",
       "      <td>0</td>\n",
       "      <td>1</td>\n",
       "      <td>0</td>\n",
       "      <td>0</td>\n",
       "      <td>0</td>\n",
       "      <td>0</td>\n",
       "      <td>0</td>\n",
       "      <td>0</td>\n",
       "      <td>0</td>\n",
       "      <td>0</td>\n",
       "      <td>1</td>\n",
       "      <td>0</td>\n",
       "      <td>0</td>\n",
       "      <td>0</td>\n",
       "      <td>0</td>\n",
       "      <td>0</td>\n",
       "      <td>0</td>\n",
       "      <td>1</td>\n",
       "      <td>0</td>\n",
       "    </tr>\n",
       "  </tbody>\n",
       "</table>\n",
       "</div>"
      ],
      "text/plain": [
       "   scholarship  hipertension  diabetes  alcoholism  handicap  sms_received  \\\n",
       "0            0             1         0           0         0             0   \n",
       "\n",
       "   no_show  M  booked before  Adult  Middle_Aged  Senior  medium  high  1  2  \\\n",
       "0        0  0              0      0            1       0       0     0  0  0   \n",
       "\n",
       "   3  4  5  \n",
       "0  0  1  0  "
      ]
     },
     "execution_count": 209,
     "metadata": {},
     "output_type": "execute_result"
    }
   ],
   "source": [
    "df1.head(1)"
   ]
  },
  {
   "cell_type": "markdown",
   "metadata": {},
   "source": [
    "##### - All the variables in the dataset are ready for building the model"
   ]
  },
  {
   "cell_type": "markdown",
   "metadata": {},
   "source": [
    "#### Now we will split the data in train and test using scikit learn "
   ]
  },
  {
   "cell_type": "code",
   "execution_count": 210,
   "metadata": {},
   "outputs": [],
   "source": [
    "# Assigning x and y variables\n",
    "X=df1.drop('no_show', axis=1)\n",
    "y= df1['no_show']"
   ]
  },
  {
   "cell_type": "code",
   "execution_count": 211,
   "metadata": {},
   "outputs": [],
   "source": [
    "from sklearn.model_selection import train_test_split"
   ]
  },
  {
   "cell_type": "code",
   "execution_count": 212,
   "metadata": {},
   "outputs": [],
   "source": [
    "X_train, X_test, y_train, y_test = train_test_split(X,y,test_size=0.30, \n",
    "                                                    random_state=101)"
   ]
  },
  {
   "cell_type": "markdown",
   "metadata": {},
   "source": [
    "So we have split the dataset into 30% for test and 70% for train. random_state ensures that results can be replicated. "
   ]
  },
  {
   "cell_type": "markdown",
   "metadata": {},
   "source": [
    "# Now next step is to train and predict by creating a model."
   ]
  },
  {
   "cell_type": "code",
   "execution_count": 213,
   "metadata": {},
   "outputs": [],
   "source": [
    "from sklearn.linear_model import LogisticRegression\n",
    "from sklearn.feature_selection import RFE"
   ]
  },
  {
   "cell_type": "code",
   "execution_count": 214,
   "metadata": {},
   "outputs": [],
   "source": [
    "# we create an instance of a logistic regression model"
   ]
  },
  {
   "cell_type": "code",
   "execution_count": 215,
   "metadata": {},
   "outputs": [
    {
     "data": {
      "text/plain": [
       "LogisticRegression(C=1.0, class_weight=None, dual=False, fit_intercept=True,\n",
       "          intercept_scaling=1, max_iter=100, multi_class='ovr', n_jobs=1,\n",
       "          penalty='l2', random_state=None, solver='liblinear', tol=0.0001,\n",
       "          verbose=0, warm_start=False)"
      ]
     },
     "execution_count": 215,
     "metadata": {},
     "output_type": "execute_result"
    }
   ],
   "source": [
    "logmodel = LogisticRegression()\n",
    "logmodel.fit(X_train,y_train)"
   ]
  },
  {
   "cell_type": "markdown",
   "metadata": {},
   "source": [
    "Recursive Feature Elimination\n",
    "> Recursive Feature Elimination (RFE) is based on the idea to repeatedly construct a model and choose either the best or worst performing feature, setting the feature aside and then repeating the process with the rest of the features. This process is applied until all features in the dataset are exhausted. The goal of RFE is to select features by recursively considering smaller and smaller sets of features.\n",
    "\n",
    "> Referenced from https://towardsdatascience.com/building-a-logistic-regression-in-python-step-by-step-becd4d56c9c8"
   ]
  },
  {
   "cell_type": "code",
   "execution_count": 216,
   "metadata": {},
   "outputs": [
    {
     "name": "stdout",
     "output_type": "stream",
     "text": [
      "[ True  True  True  True  True  True  True  True  True  True  True  True\n",
      "  True  True  True  True  True  True]\n",
      "[1 1 1 1 1 1 1 1 1 1 1 1 1 1 1 1 1 1]\n"
     ]
    }
   ],
   "source": [
    "rfe = RFE(logmodel, 20)\n",
    "rfe = rfe.fit(X_train, y_train.values.ravel())\n",
    "print(rfe.support_)\n",
    "print(rfe.ranking_)"
   ]
  },
  {
   "cell_type": "code",
   "execution_count": 217,
   "metadata": {},
   "outputs": [
    {
     "name": "stdout",
     "output_type": "stream",
     "text": [
      "Optimization terminated successfully.\n",
      "         Current function value: 0.498092\n",
      "         Iterations 6\n",
      "                          Results: Logit\n",
      "==================================================================\n",
      "Model:              Logit            Pseudo R-squared: 0.010      \n",
      "Dependent Variable: no_show          AIC:              110135.1548\n",
      "Date:               2019-04-16 06:18 BIC:              110308.1881\n",
      "No. Observations:   110521           Log-Likelihood:   -55050.    \n",
      "Df Model:           17               LL-Null:          -55595.    \n",
      "Df Residuals:       110503           LLR p-value:      4.9037e-221\n",
      "Converged:          1.0000           Scale:            1.0000     \n",
      "No. Iterations:     6.0000                                        \n",
      "------------------------------------------------------------------\n",
      "                   Coef.  Std.Err.    z     P>|z|   [0.025  0.975]\n",
      "------------------------------------------------------------------\n",
      "scholarship       -0.2081   0.0251  -8.3023 0.0000 -0.2572 -0.1589\n",
      "hipertension      -0.0396   0.0255  -1.5546 0.1200 -0.0895  0.0103\n",
      "diabetes           0.1057   0.0351   3.0092 0.0026  0.0368  0.1745\n",
      "alcoholism         0.4120   0.0467   8.8162 0.0000  0.3204  0.5036\n",
      "handicap          -0.0314   0.0503  -0.6250 0.5320 -0.1300  0.0672\n",
      "sms_received      -0.2367   0.0187 -12.6603 0.0000 -0.2733 -0.2000\n",
      "M                 -0.5696   0.0156 -36.4833 0.0000 -0.6002 -0.5390\n",
      "booked before      0.7336   0.0223  32.9091 0.0000  0.6899  0.7773\n",
      "Adult             -0.8435   0.0180 -46.7639 0.0000 -0.8789 -0.8082\n",
      "Middle_Aged       -1.2138   0.0195 -62.2729 0.0000 -1.2520 -1.1755\n",
      "Senior            -1.3964   0.0307 -45.4653 0.0000 -1.4566 -1.3362\n",
      "medium             0.2312   0.0240   9.6472 0.0000  0.1842  0.2782\n",
      "high               0.4481   0.0236  18.9653 0.0000  0.4018  0.4944\n",
      "1                 -1.0532   0.0195 -53.9646 0.0000 -1.0914 -1.0149\n",
      "2                 -1.1108   0.0195 -56.8321 0.0000 -1.1491 -1.0725\n",
      "3                 -1.1278   0.0228 -49.3761 0.0000 -1.1726 -1.0831\n",
      "4                 -1.0314   0.0216 -47.7669 0.0000 -1.0737 -0.9891\n",
      "5                 -0.5876   0.3906  -1.5045 0.1325 -1.3531  0.1779\n",
      "==================================================================\n",
      "\n"
     ]
    }
   ],
   "source": [
    "import statsmodels.api as sm\n",
    "logit_model=sm.Logit(y,X)\n",
    "result=logit_model.fit()\n",
    "print(result.summary2())"
   ]
  },
  {
   "cell_type": "markdown",
   "metadata": {},
   "source": [
    "    Some of the variables are insignificant. So we will run another iteration by excluding those variables"
   ]
  },
  {
   "cell_type": "code",
   "execution_count": 218,
   "metadata": {},
   "outputs": [],
   "source": [
    "cols= ['scholarship','diabetes','alcoholism','sms_received','M','booked before', 'Adult','Middle_Aged','Senior','medium','high',1,2,3,4]"
   ]
  },
  {
   "cell_type": "code",
   "execution_count": 219,
   "metadata": {},
   "outputs": [],
   "source": [
    "X=df1[cols]"
   ]
  },
  {
   "cell_type": "code",
   "execution_count": 220,
   "metadata": {},
   "outputs": [
    {
     "name": "stdout",
     "output_type": "stream",
     "text": [
      "Optimization terminated successfully.\n",
      "         Current function value: 0.498116\n",
      "         Iterations 6\n",
      "                          Results: Logit\n",
      "==================================================================\n",
      "Model:              Logit            Pseudo R-squared: 0.010      \n",
      "Dependent Variable: no_show          AIC:              110134.5601\n",
      "Date:               2019-04-16 06:18 BIC:              110278.7545\n",
      "No. Observations:   110521           Log-Likelihood:   -55052.    \n",
      "Df Model:           14               LL-Null:          -55595.    \n",
      "Df Residuals:       110506           LLR p-value:      1.0849e-222\n",
      "Converged:          1.0000           Scale:            1.0000     \n",
      "No. Iterations:     6.0000                                        \n",
      "------------------------------------------------------------------\n",
      "                   Coef.  Std.Err.    z     P>|z|   [0.025  0.975]\n",
      "------------------------------------------------------------------\n",
      "scholarship       -0.2097   0.0250  -8.3742 0.0000 -0.2588 -0.1606\n",
      "diabetes           0.0859   0.0329   2.6074 0.0091  0.0213  0.1505\n",
      "alcoholism         0.4072   0.0466   8.7316 0.0000  0.3158  0.4987\n",
      "sms_received      -0.2367   0.0187 -12.6617 0.0000 -0.2733 -0.2000\n",
      "M                 -0.5695   0.0156 -36.5073 0.0000 -0.6001 -0.5390\n",
      "booked before      0.7320   0.0223  32.8551 0.0000  0.6884  0.7757\n",
      "Adult             -0.8458   0.0180 -46.9977 0.0000 -0.8811 -0.8106\n",
      "Middle_Aged       -1.2251   0.0183 -66.9033 0.0000 -1.2610 -1.1892\n",
      "Senior            -1.4173   0.0282 -50.3443 0.0000 -1.4724 -1.3621\n",
      "medium             0.2322   0.0240   9.6896 0.0000  0.1852  0.2792\n",
      "high               0.4500   0.0236  19.0613 0.0000  0.4038  0.4963\n",
      "1                 -1.0527   0.0195 -53.9620 0.0000 -1.0910 -1.0145\n",
      "2                 -1.1103   0.0195 -56.8256 0.0000 -1.1486 -1.0720\n",
      "3                 -1.1276   0.0228 -49.3801 0.0000 -1.1723 -1.0828\n",
      "4                 -1.0309   0.0216 -47.7573 0.0000 -1.0732 -0.9886\n",
      "==================================================================\n",
      "\n"
     ]
    }
   ],
   "source": [
    "logit_model=sm.Logit(y,X)\n",
    "result=logit_model.fit()\n",
    "print(result.summary2())"
   ]
  },
  {
   "cell_type": "markdown",
   "metadata": {},
   "source": [
    "# All the variables are now significant"
   ]
  },
  {
   "cell_type": "markdown",
   "metadata": {},
   "source": [
    "### Logistic Regression Model Fitting"
   ]
  },
  {
   "cell_type": "code",
   "execution_count": 221,
   "metadata": {},
   "outputs": [
    {
     "data": {
      "text/plain": [
       "LogisticRegression(C=1.0, class_weight=None, dual=False, fit_intercept=True,\n",
       "          intercept_scaling=1, max_iter=100, multi_class='ovr', n_jobs=1,\n",
       "          penalty='l2', random_state=None, solver='liblinear', tol=0.0001,\n",
       "          verbose=0, warm_start=False)"
      ]
     },
     "execution_count": 221,
     "metadata": {},
     "output_type": "execute_result"
    }
   ],
   "source": [
    "from sklearn import metrics\n",
    "X_train, X_test, y_train, y_test = train_test_split(X, y, test_size=0.3, random_state=0)\n",
    "logreg = LogisticRegression()\n",
    "logreg.fit(X_train, y_train)"
   ]
  },
  {
   "cell_type": "markdown",
   "metadata": {},
   "source": [
    "Now we will call some predictions off of this using X_test dataset. then let's move on to evaluate our model!"
   ]
  },
  {
   "cell_type": "code",
   "execution_count": 222,
   "metadata": {},
   "outputs": [
    {
     "name": "stdout",
     "output_type": "stream",
     "text": [
      "Accuracy of logistic regression classifier on test set: 0.80\n"
     ]
    }
   ],
   "source": [
    "y_pred = logreg.predict(X_test)\n",
    "print('Accuracy of logistic regression classifier on test set: {:.2f}'.format(logreg.score(X_test, y_test)))"
   ]
  },
  {
   "cell_type": "code",
   "execution_count": 223,
   "metadata": {},
   "outputs": [
    {
     "name": "stdout",
     "output_type": "stream",
     "text": [
      "[[26467     2]\n",
      " [ 6688     0]]\n"
     ]
    }
   ],
   "source": [
    "from sklearn.metrics import classification_report, confusion_matrix\n",
    "confusion_matrix = confusion_matrix(y_test, y_pred)\n",
    "print(confusion_matrix)"
   ]
  },
  {
   "cell_type": "markdown",
   "metadata": {},
   "source": [
    "## The result is telling us that we have 26467+0 correct predictions and 6688+2 incorrect predictions."
   ]
  },
  {
   "cell_type": "markdown",
   "metadata": {},
   "source": [
    "### Compute precision, recall, F-measure and support\n",
    "\n",
    "> - The precision is the ratio tp / (tp + fp) where tp is the number of true positives and fp the number of false positives. The precision is intuitively the ability of the classifier to not label a sample as positive if it is negative.\n",
    "\n",
    ">- The recall is the ratio tp / (tp + fn) where tp is the number of true positives and fn the number of false negatives. The recall is intuitively the ability of the classifier to find all the positive samples.\n",
    "\n",
    ">-  The F-beta score can be interpreted as a weighted harmonic mean of the precision and recall, where an F-beta score reaches its best value at 1 and worst score at 0.\n",
    "\n",
    ">-  The F-beta score weights the recall more than the precision by a factor of beta. beta = 1.0 means recall and precision are equally important.\n",
    "\n",
    ">- The support is the number of occurrences of each class in y_test.\n",
    "\n",
    "> Referenced from https://towardsdatascience.com/building-a-logistic-regression-in-python-step-by-step-becd4d56c9c8"
   ]
  },
  {
   "cell_type": "code",
   "execution_count": 224,
   "metadata": {},
   "outputs": [
    {
     "name": "stdout",
     "output_type": "stream",
     "text": [
      "             precision    recall  f1-score   support\n",
      "\n",
      "          0       0.80      1.00      0.89     26469\n",
      "          1       0.00      0.00      0.00      6688\n",
      "\n",
      "avg / total       0.64      0.80      0.71     33157\n",
      "\n"
     ]
    }
   ],
   "source": [
    "from sklearn.metrics import classification_report\n",
    "print(classification_report(y_test, y_pred))"
   ]
  },
  {
   "cell_type": "code",
   "execution_count": 225,
   "metadata": {},
   "outputs": [
    {
     "data": {
      "image/png": "[encoded data removed]",
      "text/plain": [
       "<matplotlib.figure.Figure at 0x7f5f7ceff5f8>"
      ]
     },
     "metadata": {},
     "output_type": "display_data"
    }
   ],
   "source": [
    "from sklearn.metrics import roc_auc_score\n",
    "from sklearn.metrics import roc_curve\n",
    "logit_roc_auc = roc_auc_score(y_test, logreg.predict(X_test))\n",
    "fpr, tpr, thresholds = roc_curve(y_test, logreg.predict_proba(X_test)[:,1])\n",
    "plt.figure()\n",
    "plt.plot(fpr, tpr, label='Logistic Regression (area = %0.2f)' % logit_roc_auc)\n",
    "plt.plot([0, 1], [0, 1],'r--')\n",
    "plt.xlim([0.0, 1.0])\n",
    "plt.ylim([0.0, 1.05])\n",
    "plt.xlabel('False Positive Rate')\n",
    "plt.ylabel('True Positive Rate')\n",
    "plt.title('Receiver operating characteristic')\n",
    "plt.legend(loc=\"lower right\")\n",
    "plt.savefig('Log_ROC')\n",
    "\n",
    "# Code referenced from https://towardsdatascience.com/building-a-logistic-regression-in-python-step-by-step-becd4d56c9c8"
   ]
  },
  {
   "cell_type": "markdown",
   "metadata": {},
   "source": [
    "## The receiver operating characteristic (ROC) curve is a tool used with binary classifiers to ascertain how good the model is. The dotted line represents the ROC curve if we had a random model; the more the gap between red dotted line and blue solid line, the better the model\n",
    "\n",
    "## This model is a fairly good model"
   ]
  },
  {
   "cell_type": "markdown",
   "metadata": {},
   "source": [
    "<a id='conclusions'></a>\n",
    "# Conclusions\n",
    "\n",
    "### As shown in the logistic regression, the variables that are significant predictors of no show are\n",
    "- 'scholarship': has negative coefficient\n",
    "- 'diabetes',\n",
    "- 'alcoholism',\n",
    "- 'sms_received': has negative coefficient which means that if SMS was received by the patient then he/she will most likely show up for the appointment\n",
    "- if the gender is male. It has negative coefficient which means that males generally show up for the appointment \n",
    "- if the appointment has been booked before,\n",
    "- 'Adult','Middle_Aged','Senior': have negative coeffients. As age increases, no_show rate decreases\n",
    "- 'medium','high': have positive coefficients. As lag increases, no_show rate increases\n",
    "- 1,2,3,4 for handicap variable have negative coefficients\n",
    "\n",
    "### - The rate of no_show varies for the day of week of the appointment date. It is generally lower on Thursday, Friday and Saturday. Appointments closer to weekend have higher chances of patient showing up.\n",
    "\n",
    "### The no_show rate varies across different age groups. It is lower for patients in Senior age group. \n",
    "\n",
    "### The no_show rate varies for the lag period also. It increases from low to medium to high lag groups.### - The proportion of No Shows is significantly less for appointments booked on the same day. Out of 22314 no shows, 8% appointments were scheduled on the same day and 92% appointments were scheduled before the appointment date. So there are higher chances that patients might forget and therefore not show up for the appointment\n",
    "\n",
    "### - Jardim Camburi, Maria Ortiz, Resistência, Jardim Da Penha, Itararé are the top 5 neighbourhoods for no_show\n",
    "\n",
    "\n",
    "\n",
    "## Resources used \n",
    "\n",
    "1. www.stackoverflow.com\n",
    "2. https://towardsdatascience.com/building-a-logistic-regression-in-python-step-by-step-becd4d56c9c8\n",
    "3. https://www.udemy.com/python-for-data-science-and-machine-learning-bootcamp/learn/lecture\n"
   ]
  },
  {
   "cell_type": "code",
   "execution_count": 226,
   "metadata": {},
   "outputs": [
    {
     "data": {
      "text/plain": [
       "0"
      ]
     },
     "execution_count": 226,
     "metadata": {},
     "output_type": "execute_result"
    }
   ],
   "source": [
    "from subprocess import call\n",
    "call(['python', '-m', 'nbconvert', 'Investigate_a_Dataset.ipynb'])"
   ]
  }
 ],
 "metadata": {
  "kernelspec": {
   "display_name": "Python 3",
   "language": "python",
   "name": "python3"
  },
  "language_info": {
   "codemirror_mode": {
    "name": "ipython",
    "version": 3
   },
   "file_extension": ".py",
   "mimetype": "text/x-python",
   "name": "python",
   "nbconvert_exporter": "python",
   "pygments_lexer": "ipython3",
   "version": "3.6.4"
  }
 },
 "nbformat": 4,
 "nbformat_minor": 2
}
